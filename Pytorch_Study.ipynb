{
  "nbformat": 4,
  "nbformat_minor": 0,
  "metadata": {
    "colab": {
      "provenance": [],
      "gpuType": "T4",
      "generative_ai_disabled": true,
      "collapsed_sections": [
        "-yGrJRikhk2O",
        "S-5g6aqAvScR",
        "Ynbssk8Z2pjb"
      ],
      "authorship_tag": "ABX9TyM5ivhFQtf5rTza1qNJlFtN",
      "include_colab_link": true
    },
    "kernelspec": {
      "name": "python3",
      "display_name": "Python 3"
    },
    "language_info": {
      "name": "python"
    },
    "accelerator": "GPU"
  },
  "cells": [
    {
      "cell_type": "markdown",
      "metadata": {
        "id": "view-in-github",
        "colab_type": "text"
      },
      "source": [
        "<a href=\"https://colab.research.google.com/github/brian-lear/study/blob/main/Pytorch_Study.ipynb\" target=\"_parent\"><img src=\"https://colab.research.google.com/assets/colab-badge.svg\" alt=\"Open In Colab\"/></a>"
      ]
    },
    {
      "cell_type": "code",
      "execution_count": 77,
      "metadata": {
        "id": "W1L9CBM2g43u"
      },
      "outputs": [],
      "source": [
        "# TODO\n",
        "\n",
        "# data wrangling with tensors\n",
        "## from numpy to tensor\n",
        "## formating to correct type\n",
        "## formatting to correct device\n",
        "## formatting to correct shape"
      ]
    },
    {
      "cell_type": "code",
      "source": [
        "# answers\n",
        "\n",
        "# data loader only if I need to run batches? -> for memory purpose. small tabular data does not need it. mostly for images, audio, text and videos\n",
        "# do I always have to have pixel between 0 and 1? -> for DL yes, but 0-255 is normal RGB representation"
      ],
      "metadata": {
        "id": "BRqmjQtNeTje"
      },
      "execution_count": 78,
      "outputs": []
    },
    {
      "cell_type": "code",
      "source": [
        "# ?\n",
        "# how to check device type for model, tensor\n",
        "# what other things to check with reg lin? activation function?\n",
        "# be able to explain kernel, stride, padding\n",
        "# explain why CNN -> ReLU -> MaxPool"
      ],
      "metadata": {
        "id": "PxW2rJz0qHk_"
      },
      "execution_count": 79,
      "outputs": []
    },
    {
      "cell_type": "markdown",
      "source": [
        "# Regression Model"
      ],
      "metadata": {
        "id": "-yGrJRikhk2O"
      }
    },
    {
      "cell_type": "code",
      "source": [
        "import torch\n",
        "from torch import nn"
      ],
      "metadata": {
        "id": "3LtiWhl4hmae"
      },
      "execution_count": 80,
      "outputs": []
    },
    {
      "cell_type": "code",
      "source": [
        "device = 'cuda' if torch.cuda.is_available() else 'cpu'\n",
        "device"
      ],
      "metadata": {
        "colab": {
          "base_uri": "https://localhost:8080/",
          "height": 0
        },
        "id": "bPu3InCup_8T",
        "outputId": "b3b5ee51-1657-484c-b14f-2c5b74018bb9"
      },
      "execution_count": 81,
      "outputs": [
        {
          "output_type": "execute_result",
          "data": {
            "text/plain": [
              "'cuda'"
            ],
            "application/vnd.google.colaboratory.intrinsic+json": {
              "type": "string"
            }
          },
          "metadata": {},
          "execution_count": 81
        }
      ]
    },
    {
      "cell_type": "code",
      "source": [
        "# Create weight and bias\n",
        "weight = 0.7\n",
        "bias = 0.3\n",
        "\n",
        "# Create range values\n",
        "start = 0\n",
        "end = 1\n",
        "step = 0.002\n",
        "\n",
        "# Create X and y (features and labels)\n",
        "X = torch.arange(start, end, step).unsqueeze(dim=1) # without unsqueeze, errors will happen later on (shapes within linear layers)\n",
        "y = weight * X + bias\n",
        "X[:10], y[:10]"
      ],
      "metadata": {
        "colab": {
          "base_uri": "https://localhost:8080/"
        },
        "id": "AY9udthqlV46",
        "outputId": "36e65ba4-2dcd-4d52-a6a4-38aa0e276e99"
      },
      "execution_count": 82,
      "outputs": [
        {
          "output_type": "execute_result",
          "data": {
            "text/plain": [
              "(tensor([[0.0000],\n",
              "         [0.0020],\n",
              "         [0.0040],\n",
              "         [0.0060],\n",
              "         [0.0080],\n",
              "         [0.0100],\n",
              "         [0.0120],\n",
              "         [0.0140],\n",
              "         [0.0160],\n",
              "         [0.0180]]),\n",
              " tensor([[0.3000],\n",
              "         [0.3014],\n",
              "         [0.3028],\n",
              "         [0.3042],\n",
              "         [0.3056],\n",
              "         [0.3070],\n",
              "         [0.3084],\n",
              "         [0.3098],\n",
              "         [0.3112],\n",
              "         [0.3126]]))"
            ]
          },
          "metadata": {},
          "execution_count": 82
        }
      ]
    },
    {
      "cell_type": "code",
      "source": [
        "# train test split\n",
        "\n",
        "train_size = 0.8\n",
        "n_samples = len(X)\n",
        "train_max_index = int(n_samples*train_size)\n",
        "\n",
        "X_train = X[:train_max_index]\n",
        "y_train = y[:train_max_index]\n",
        "\n",
        "X_test = X[train_max_index:]\n",
        "y_test = y[train_max_index:]\n",
        "\n",
        "len(X_train), len(y_train), len(X_test), len(y_test)"
      ],
      "metadata": {
        "colab": {
          "base_uri": "https://localhost:8080/"
        },
        "id": "5Fr6Ue6slqL1",
        "outputId": "a853b49b-e8be-46a8-9467-32d661fc91fa"
      },
      "execution_count": 83,
      "outputs": [
        {
          "output_type": "execute_result",
          "data": {
            "text/plain": [
              "(400, 400, 100, 100)"
            ]
          },
          "metadata": {},
          "execution_count": 83
        }
      ]
    },
    {
      "cell_type": "code",
      "source": [
        "# model\n",
        "\n",
        "class RegressionModel(nn.Module):\n",
        "  def __init__(self, in_shape, hidden_units, out_shape):\n",
        "    super().__init__()\n",
        "\n",
        "    self.layers = nn.Sequential(\n",
        "        nn.Linear(in_features = in_shape, out_features=hidden_units),\n",
        "        nn.Linear(in_features = hidden_units, out_features=hidden_units),\n",
        "        nn.Linear(in_features = hidden_units, out_features=out_shape),\n",
        "    )\n",
        "\n",
        "  def forward(self, x):\n",
        "    return self.layers(x)\n",
        "\n",
        "reg_model = RegressionModel(in_shape = 1,\n",
        "                            hidden_units = 8,\n",
        "                            out_shape = 1).to(device)\n",
        "reg_model, reg_model.state_dict()"
      ],
      "metadata": {
        "colab": {
          "base_uri": "https://localhost:8080/"
        },
        "id": "ZvXJP0P8mqTD",
        "outputId": "b4332282-3d66-4b13-e8ef-1edd0262d46a"
      },
      "execution_count": 84,
      "outputs": [
        {
          "output_type": "execute_result",
          "data": {
            "text/plain": [
              "(RegressionModel(\n",
              "   (layers): Sequential(\n",
              "     (0): Linear(in_features=1, out_features=8, bias=True)\n",
              "     (1): Linear(in_features=8, out_features=8, bias=True)\n",
              "     (2): Linear(in_features=8, out_features=1, bias=True)\n",
              "   )\n",
              " ),\n",
              " OrderedDict([('layers.0.weight',\n",
              "               tensor([[-0.8018],\n",
              "                       [ 0.1085],\n",
              "                       [ 0.3237],\n",
              "                       [-0.4585],\n",
              "                       [ 0.5722],\n",
              "                       [ 0.6551],\n",
              "                       [ 0.4020],\n",
              "                       [-0.6201]], device='cuda:0')),\n",
              "              ('layers.0.bias',\n",
              "               tensor([ 0.1090,  0.5527, -0.7315, -0.6234,  0.9190,  0.1543, -0.7295, -0.3456],\n",
              "                      device='cuda:0')),\n",
              "              ('layers.1.weight',\n",
              "               tensor([[ 0.0791,  0.0500, -0.3317, -0.1960, -0.1624, -0.0277, -0.0514, -0.3377],\n",
              "                       [-0.3059, -0.1697, -0.1852,  0.2400, -0.1229,  0.2112,  0.1013,  0.1349],\n",
              "                       [ 0.0150, -0.1587,  0.2576,  0.0939,  0.1579, -0.0814,  0.3412,  0.2229],\n",
              "                       [ 0.0219,  0.0761, -0.0697,  0.0163, -0.1953, -0.3507,  0.0997, -0.2155],\n",
              "                       [-0.2680, -0.2871,  0.1683, -0.2709,  0.3060,  0.3227,  0.2997,  0.0416],\n",
              "                       [-0.2821, -0.1169, -0.0972, -0.1159, -0.2662, -0.2109, -0.1613, -0.0461],\n",
              "                       [ 0.2476, -0.1978,  0.0982,  0.0864,  0.0988, -0.2644,  0.1450,  0.1607],\n",
              "                       [ 0.0214,  0.2053, -0.3171,  0.2093, -0.2234,  0.0444,  0.1779,  0.1067]],\n",
              "                      device='cuda:0')),\n",
              "              ('layers.1.bias',\n",
              "               tensor([-0.1416, -0.0411, -0.0466,  0.0669, -0.3214,  0.0244,  0.0860, -0.1982],\n",
              "                      device='cuda:0')),\n",
              "              ('layers.2.weight',\n",
              "               tensor([[-0.2745,  0.3208, -0.0546, -0.2157,  0.1576,  0.2155,  0.2777, -0.2572]],\n",
              "                      device='cuda:0')),\n",
              "              ('layers.2.bias', tensor([-0.1014], device='cuda:0'))]))"
            ]
          },
          "metadata": {},
          "execution_count": 84
        }
      ]
    },
    {
      "cell_type": "code",
      "source": [
        "loss_fn = nn.L1Loss()\n",
        "optimizer = torch.optim.SGD(reg_model.parameters(), lr=0.1)"
      ],
      "metadata": {
        "id": "OVZmzzxIpGn2"
      },
      "execution_count": 85,
      "outputs": []
    },
    {
      "cell_type": "code",
      "source": [
        "torch.manual_seed(601)\n",
        "torch.cuda.manual_seed(601)\n",
        "\n",
        "epochs = 1000\n",
        "train_loss_list = []\n",
        "test_loss_list = []\n",
        "\n",
        "X_train, y_train = X_train.to(device), y_train.to(device)\n",
        "X_test, y_test = X_test.to(device), y_test.to(device)\n",
        "\n",
        "for epoch in range(epochs):\n",
        "\n",
        "  reg_model.train()\n",
        "\n",
        "  preds = reg_model(X_train)\n",
        "\n",
        "  loss = loss_fn(preds,y_train)\n",
        "\n",
        "  optimizer.zero_grad()\n",
        "  loss.backward()\n",
        "  optimizer.step()\n",
        "\n",
        "  reg_model.eval()\n",
        "  with torch.inference_mode():\n",
        "\n",
        "    preds = reg_model(X_test)\n",
        "    test_loss = loss_fn(preds,y_test)\n",
        "\n",
        "  if epoch % 100 == 0:\n",
        "    print(f'Epoch: {epoch}, Train Loss: {loss}, Test Loss: {test_loss}')\n"
      ],
      "metadata": {
        "colab": {
          "base_uri": "https://localhost:8080/"
        },
        "id": "H5nkQFnPp7TU",
        "outputId": "fc1f44b3-4306-4e6d-9a04-1c620b48b815"
      },
      "execution_count": 86,
      "outputs": [
        {
          "output_type": "stream",
          "name": "stdout",
          "text": [
            "Epoch: 0, Train Loss: 0.8164678812026978, Test Loss: 0.6423952579498291\n",
            "Epoch: 100, Train Loss: 0.11338859051465988, Test Loss: 0.018860161304473877\n",
            "Epoch: 200, Train Loss: 0.07826793193817139, Test Loss: 0.007796401623636484\n",
            "Epoch: 300, Train Loss: 0.07799259573221207, Test Loss: 0.027816452085971832\n",
            "Epoch: 400, Train Loss: 0.08355464786291122, Test Loss: 0.021955804899334908\n",
            "Epoch: 500, Train Loss: 0.059528201818466187, Test Loss: 0.015148610807955265\n",
            "Epoch: 600, Train Loss: 0.06822136789560318, Test Loss: 0.02755557931959629\n",
            "Epoch: 700, Train Loss: 0.06972866505384445, Test Loss: 0.015465476550161839\n",
            "Epoch: 800, Train Loss: 0.049953870475292206, Test Loss: 0.025013834238052368\n",
            "Epoch: 900, Train Loss: 0.05742466822266579, Test Loss: 0.008830985054373741\n"
          ]
        }
      ]
    },
    {
      "cell_type": "code",
      "source": [
        "next(reg_model.parameters()).device"
      ],
      "metadata": {
        "colab": {
          "base_uri": "https://localhost:8080/"
        },
        "id": "hjebEtols6YI",
        "outputId": "b07e03b0-4cbf-475c-c078-65dee25099ae"
      },
      "execution_count": 87,
      "outputs": [
        {
          "output_type": "execute_result",
          "data": {
            "text/plain": [
              "device(type='cuda', index=0)"
            ]
          },
          "metadata": {},
          "execution_count": 87
        }
      ]
    },
    {
      "cell_type": "code",
      "source": [
        "reg_model.eval()\n",
        "\n",
        "with torch.inference_mode():\n",
        "  preds = reg_model(X_test)\n",
        "\n",
        "preds[:10], y_test[:10]"
      ],
      "metadata": {
        "colab": {
          "base_uri": "https://localhost:8080/"
        },
        "id": "BDB9XQhPso72",
        "outputId": "e8284cc9-7a26-492e-c4e2-7d49b0b7bf03"
      },
      "execution_count": 88,
      "outputs": [
        {
          "output_type": "execute_result",
          "data": {
            "text/plain": [
              "(tensor([[0.7562],\n",
              "         [0.7574],\n",
              "         [0.7585],\n",
              "         [0.7596],\n",
              "         [0.7608],\n",
              "         [0.7619],\n",
              "         [0.7630],\n",
              "         [0.7642],\n",
              "         [0.7653],\n",
              "         [0.7664]], device='cuda:0'),\n",
              " tensor([[0.8600],\n",
              "         [0.8614],\n",
              "         [0.8628],\n",
              "         [0.8642],\n",
              "         [0.8656],\n",
              "         [0.8670],\n",
              "         [0.8684],\n",
              "         [0.8698],\n",
              "         [0.8712],\n",
              "         [0.8726]], device='cuda:0'))"
            ]
          },
          "metadata": {},
          "execution_count": 88
        }
      ]
    },
    {
      "cell_type": "code",
      "source": [
        "# save model\n",
        "\n",
        "from pathlib import Path\n",
        "\n",
        "MODEL_PATH = Path('models')\n",
        "MODEL_PATH.mkdir(parents=True, exist_ok= True)\n",
        "\n",
        "MODEL_NAME = 'regmodel.pth'\n",
        "MODEL_SAVE_PATH = MODEL_PATH / MODEL_NAME\n",
        "\n",
        "torch.save(obj=reg_model.state_dict(), f=MODEL_SAVE_PATH)"
      ],
      "metadata": {
        "id": "WfOtMX7-t21d"
      },
      "execution_count": 89,
      "outputs": []
    },
    {
      "cell_type": "code",
      "source": [
        "# load model\n",
        "\n",
        "loaded_model = RegressionModel(in_shape = 1,\n",
        "                            hidden_units = 8,\n",
        "                            out_shape = 1).to(device)\n",
        "loaded_model.load_state_dict(torch.load(MODEL_SAVE_PATH))\n",
        "loaded_model.to(device)\n",
        "loaded_model"
      ],
      "metadata": {
        "colab": {
          "base_uri": "https://localhost:8080/"
        },
        "id": "iFdSFbuXuVlW",
        "outputId": "90df7e2b-a7af-476a-ccf2-e8204a4aa14b"
      },
      "execution_count": 90,
      "outputs": [
        {
          "output_type": "execute_result",
          "data": {
            "text/plain": [
              "RegressionModel(\n",
              "  (layers): Sequential(\n",
              "    (0): Linear(in_features=1, out_features=8, bias=True)\n",
              "    (1): Linear(in_features=8, out_features=8, bias=True)\n",
              "    (2): Linear(in_features=8, out_features=1, bias=True)\n",
              "  )\n",
              ")"
            ]
          },
          "metadata": {},
          "execution_count": 90
        }
      ]
    },
    {
      "cell_type": "code",
      "source": [
        "loaded_model.eval()\n",
        "with torch.inference_mode():\n",
        "  loaded_model_preds = loaded_model(X_test)\n",
        "preds[:10] == loaded_model_preds[:10]"
      ],
      "metadata": {
        "colab": {
          "base_uri": "https://localhost:8080/"
        },
        "id": "vjSbY7Fzuvfd",
        "outputId": "c8d080f7-2956-47c0-c91d-d7292346b1ff"
      },
      "execution_count": 91,
      "outputs": [
        {
          "output_type": "execute_result",
          "data": {
            "text/plain": [
              "tensor([[True],\n",
              "        [True],\n",
              "        [True],\n",
              "        [True],\n",
              "        [True],\n",
              "        [True],\n",
              "        [True],\n",
              "        [True],\n",
              "        [True],\n",
              "        [True]], device='cuda:0')"
            ]
          },
          "metadata": {},
          "execution_count": 91
        }
      ]
    },
    {
      "cell_type": "markdown",
      "source": [
        "# Classification Model - Single Class"
      ],
      "metadata": {
        "id": "S-5g6aqAvScR"
      }
    },
    {
      "cell_type": "code",
      "source": [
        "import torch\n",
        "from torch import nn"
      ],
      "metadata": {
        "id": "RuJJ2G9PvUDw"
      },
      "execution_count": 92,
      "outputs": []
    },
    {
      "cell_type": "code",
      "source": [
        "device = 'cuda' if torch.cuda.is_available() else 'cpu'\n",
        "device"
      ],
      "metadata": {
        "colab": {
          "base_uri": "https://localhost:8080/",
          "height": 0
        },
        "id": "wzvWAqnFy2yz",
        "outputId": "87f4b35c-d26e-4bdc-bb8b-a493d3cfed71"
      },
      "execution_count": 93,
      "outputs": [
        {
          "output_type": "execute_result",
          "data": {
            "text/plain": [
              "'cuda'"
            ],
            "application/vnd.google.colaboratory.intrinsic+json": {
              "type": "string"
            }
          },
          "metadata": {},
          "execution_count": 93
        }
      ]
    },
    {
      "cell_type": "code",
      "source": [
        "from sklearn.datasets import make_circles\n",
        "import pandas as pd\n",
        "\n",
        "# Make 1000 samples\n",
        "n_samples = 1000\n",
        "\n",
        "# Create circles\n",
        "X, y = make_circles(n_samples,\n",
        "                    noise=0.03, # a little bit of noise to the dots\n",
        "                    random_state=42)\n",
        "\n",
        "# Make DataFrame of circle data\n",
        "circles = pd.DataFrame({\"X1\": X[:, 0],\n",
        "    \"X2\": X[:, 1],\n",
        "    \"label\": y\n",
        "})\n",
        "circles.head(10)"
      ],
      "metadata": {
        "colab": {
          "base_uri": "https://localhost:8080/",
          "height": 0
        },
        "id": "hsAt86b1vZSa",
        "outputId": "73c96af7-c64a-40b7-d7b6-c8a3955c4a05"
      },
      "execution_count": 94,
      "outputs": [
        {
          "output_type": "execute_result",
          "data": {
            "text/plain": [
              "         X1        X2  label\n",
              "0  0.754246  0.231481      1\n",
              "1 -0.756159  0.153259      1\n",
              "2 -0.815392  0.173282      1\n",
              "3 -0.393731  0.692883      1\n",
              "4  0.442208 -0.896723      0\n",
              "5 -0.479646  0.676435      1\n",
              "6 -0.013648  0.803349      1\n",
              "7  0.771513  0.147760      1\n",
              "8 -0.169322 -0.793456      1\n",
              "9 -0.121486  1.021509      0"
            ],
            "text/html": [
              "\n",
              "  <div id=\"df-6adc0df5-c450-406a-83a6-c6cdfdb02b54\" class=\"colab-df-container\">\n",
              "    <div>\n",
              "<style scoped>\n",
              "    .dataframe tbody tr th:only-of-type {\n",
              "        vertical-align: middle;\n",
              "    }\n",
              "\n",
              "    .dataframe tbody tr th {\n",
              "        vertical-align: top;\n",
              "    }\n",
              "\n",
              "    .dataframe thead th {\n",
              "        text-align: right;\n",
              "    }\n",
              "</style>\n",
              "<table border=\"1\" class=\"dataframe\">\n",
              "  <thead>\n",
              "    <tr style=\"text-align: right;\">\n",
              "      <th></th>\n",
              "      <th>X1</th>\n",
              "      <th>X2</th>\n",
              "      <th>label</th>\n",
              "    </tr>\n",
              "  </thead>\n",
              "  <tbody>\n",
              "    <tr>\n",
              "      <th>0</th>\n",
              "      <td>0.754246</td>\n",
              "      <td>0.231481</td>\n",
              "      <td>1</td>\n",
              "    </tr>\n",
              "    <tr>\n",
              "      <th>1</th>\n",
              "      <td>-0.756159</td>\n",
              "      <td>0.153259</td>\n",
              "      <td>1</td>\n",
              "    </tr>\n",
              "    <tr>\n",
              "      <th>2</th>\n",
              "      <td>-0.815392</td>\n",
              "      <td>0.173282</td>\n",
              "      <td>1</td>\n",
              "    </tr>\n",
              "    <tr>\n",
              "      <th>3</th>\n",
              "      <td>-0.393731</td>\n",
              "      <td>0.692883</td>\n",
              "      <td>1</td>\n",
              "    </tr>\n",
              "    <tr>\n",
              "      <th>4</th>\n",
              "      <td>0.442208</td>\n",
              "      <td>-0.896723</td>\n",
              "      <td>0</td>\n",
              "    </tr>\n",
              "    <tr>\n",
              "      <th>5</th>\n",
              "      <td>-0.479646</td>\n",
              "      <td>0.676435</td>\n",
              "      <td>1</td>\n",
              "    </tr>\n",
              "    <tr>\n",
              "      <th>6</th>\n",
              "      <td>-0.013648</td>\n",
              "      <td>0.803349</td>\n",
              "      <td>1</td>\n",
              "    </tr>\n",
              "    <tr>\n",
              "      <th>7</th>\n",
              "      <td>0.771513</td>\n",
              "      <td>0.147760</td>\n",
              "      <td>1</td>\n",
              "    </tr>\n",
              "    <tr>\n",
              "      <th>8</th>\n",
              "      <td>-0.169322</td>\n",
              "      <td>-0.793456</td>\n",
              "      <td>1</td>\n",
              "    </tr>\n",
              "    <tr>\n",
              "      <th>9</th>\n",
              "      <td>-0.121486</td>\n",
              "      <td>1.021509</td>\n",
              "      <td>0</td>\n",
              "    </tr>\n",
              "  </tbody>\n",
              "</table>\n",
              "</div>\n",
              "    <div class=\"colab-df-buttons\">\n",
              "\n",
              "  <div class=\"colab-df-container\">\n",
              "    <button class=\"colab-df-convert\" onclick=\"convertToInteractive('df-6adc0df5-c450-406a-83a6-c6cdfdb02b54')\"\n",
              "            title=\"Convert this dataframe to an interactive table.\"\n",
              "            style=\"display:none;\">\n",
              "\n",
              "  <svg xmlns=\"http://www.w3.org/2000/svg\" height=\"24px\" viewBox=\"0 -960 960 960\">\n",
              "    <path d=\"M120-120v-720h720v720H120Zm60-500h600v-160H180v160Zm220 220h160v-160H400v160Zm0 220h160v-160H400v160ZM180-400h160v-160H180v160Zm440 0h160v-160H620v160ZM180-180h160v-160H180v160Zm440 0h160v-160H620v160Z\"/>\n",
              "  </svg>\n",
              "    </button>\n",
              "\n",
              "  <style>\n",
              "    .colab-df-container {\n",
              "      display:flex;\n",
              "      gap: 12px;\n",
              "    }\n",
              "\n",
              "    .colab-df-convert {\n",
              "      background-color: #E8F0FE;\n",
              "      border: none;\n",
              "      border-radius: 50%;\n",
              "      cursor: pointer;\n",
              "      display: none;\n",
              "      fill: #1967D2;\n",
              "      height: 32px;\n",
              "      padding: 0 0 0 0;\n",
              "      width: 32px;\n",
              "    }\n",
              "\n",
              "    .colab-df-convert:hover {\n",
              "      background-color: #E2EBFA;\n",
              "      box-shadow: 0px 1px 2px rgba(60, 64, 67, 0.3), 0px 1px 3px 1px rgba(60, 64, 67, 0.15);\n",
              "      fill: #174EA6;\n",
              "    }\n",
              "\n",
              "    .colab-df-buttons div {\n",
              "      margin-bottom: 4px;\n",
              "    }\n",
              "\n",
              "    [theme=dark] .colab-df-convert {\n",
              "      background-color: #3B4455;\n",
              "      fill: #D2E3FC;\n",
              "    }\n",
              "\n",
              "    [theme=dark] .colab-df-convert:hover {\n",
              "      background-color: #434B5C;\n",
              "      box-shadow: 0px 1px 3px 1px rgba(0, 0, 0, 0.15);\n",
              "      filter: drop-shadow(0px 1px 2px rgba(0, 0, 0, 0.3));\n",
              "      fill: #FFFFFF;\n",
              "    }\n",
              "  </style>\n",
              "\n",
              "    <script>\n",
              "      const buttonEl =\n",
              "        document.querySelector('#df-6adc0df5-c450-406a-83a6-c6cdfdb02b54 button.colab-df-convert');\n",
              "      buttonEl.style.display =\n",
              "        google.colab.kernel.accessAllowed ? 'block' : 'none';\n",
              "\n",
              "      async function convertToInteractive(key) {\n",
              "        const element = document.querySelector('#df-6adc0df5-c450-406a-83a6-c6cdfdb02b54');\n",
              "        const dataTable =\n",
              "          await google.colab.kernel.invokeFunction('convertToInteractive',\n",
              "                                                    [key], {});\n",
              "        if (!dataTable) return;\n",
              "\n",
              "        const docLinkHtml = 'Like what you see? Visit the ' +\n",
              "          '<a target=\"_blank\" href=https://colab.research.google.com/notebooks/data_table.ipynb>data table notebook</a>'\n",
              "          + ' to learn more about interactive tables.';\n",
              "        element.innerHTML = '';\n",
              "        dataTable['output_type'] = 'display_data';\n",
              "        await google.colab.output.renderOutput(dataTable, element);\n",
              "        const docLink = document.createElement('div');\n",
              "        docLink.innerHTML = docLinkHtml;\n",
              "        element.appendChild(docLink);\n",
              "      }\n",
              "    </script>\n",
              "  </div>\n",
              "\n",
              "\n",
              "    <div id=\"df-307cb68b-fae2-42b7-ac8e-d342c6436590\">\n",
              "      <button class=\"colab-df-quickchart\" onclick=\"quickchart('df-307cb68b-fae2-42b7-ac8e-d342c6436590')\"\n",
              "                title=\"Suggest charts\"\n",
              "                style=\"display:none;\">\n",
              "\n",
              "<svg xmlns=\"http://www.w3.org/2000/svg\" height=\"24px\"viewBox=\"0 0 24 24\"\n",
              "     width=\"24px\">\n",
              "    <g>\n",
              "        <path d=\"M19 3H5c-1.1 0-2 .9-2 2v14c0 1.1.9 2 2 2h14c1.1 0 2-.9 2-2V5c0-1.1-.9-2-2-2zM9 17H7v-7h2v7zm4 0h-2V7h2v10zm4 0h-2v-4h2v4z\"/>\n",
              "    </g>\n",
              "</svg>\n",
              "      </button>\n",
              "\n",
              "<style>\n",
              "  .colab-df-quickchart {\n",
              "      --bg-color: #E8F0FE;\n",
              "      --fill-color: #1967D2;\n",
              "      --hover-bg-color: #E2EBFA;\n",
              "      --hover-fill-color: #174EA6;\n",
              "      --disabled-fill-color: #AAA;\n",
              "      --disabled-bg-color: #DDD;\n",
              "  }\n",
              "\n",
              "  [theme=dark] .colab-df-quickchart {\n",
              "      --bg-color: #3B4455;\n",
              "      --fill-color: #D2E3FC;\n",
              "      --hover-bg-color: #434B5C;\n",
              "      --hover-fill-color: #FFFFFF;\n",
              "      --disabled-bg-color: #3B4455;\n",
              "      --disabled-fill-color: #666;\n",
              "  }\n",
              "\n",
              "  .colab-df-quickchart {\n",
              "    background-color: var(--bg-color);\n",
              "    border: none;\n",
              "    border-radius: 50%;\n",
              "    cursor: pointer;\n",
              "    display: none;\n",
              "    fill: var(--fill-color);\n",
              "    height: 32px;\n",
              "    padding: 0;\n",
              "    width: 32px;\n",
              "  }\n",
              "\n",
              "  .colab-df-quickchart:hover {\n",
              "    background-color: var(--hover-bg-color);\n",
              "    box-shadow: 0 1px 2px rgba(60, 64, 67, 0.3), 0 1px 3px 1px rgba(60, 64, 67, 0.15);\n",
              "    fill: var(--button-hover-fill-color);\n",
              "  }\n",
              "\n",
              "  .colab-df-quickchart-complete:disabled,\n",
              "  .colab-df-quickchart-complete:disabled:hover {\n",
              "    background-color: var(--disabled-bg-color);\n",
              "    fill: var(--disabled-fill-color);\n",
              "    box-shadow: none;\n",
              "  }\n",
              "\n",
              "  .colab-df-spinner {\n",
              "    border: 2px solid var(--fill-color);\n",
              "    border-color: transparent;\n",
              "    border-bottom-color: var(--fill-color);\n",
              "    animation:\n",
              "      spin 1s steps(1) infinite;\n",
              "  }\n",
              "\n",
              "  @keyframes spin {\n",
              "    0% {\n",
              "      border-color: transparent;\n",
              "      border-bottom-color: var(--fill-color);\n",
              "      border-left-color: var(--fill-color);\n",
              "    }\n",
              "    20% {\n",
              "      border-color: transparent;\n",
              "      border-left-color: var(--fill-color);\n",
              "      border-top-color: var(--fill-color);\n",
              "    }\n",
              "    30% {\n",
              "      border-color: transparent;\n",
              "      border-left-color: var(--fill-color);\n",
              "      border-top-color: var(--fill-color);\n",
              "      border-right-color: var(--fill-color);\n",
              "    }\n",
              "    40% {\n",
              "      border-color: transparent;\n",
              "      border-right-color: var(--fill-color);\n",
              "      border-top-color: var(--fill-color);\n",
              "    }\n",
              "    60% {\n",
              "      border-color: transparent;\n",
              "      border-right-color: var(--fill-color);\n",
              "    }\n",
              "    80% {\n",
              "      border-color: transparent;\n",
              "      border-right-color: var(--fill-color);\n",
              "      border-bottom-color: var(--fill-color);\n",
              "    }\n",
              "    90% {\n",
              "      border-color: transparent;\n",
              "      border-bottom-color: var(--fill-color);\n",
              "    }\n",
              "  }\n",
              "</style>\n",
              "\n",
              "      <script>\n",
              "        async function quickchart(key) {\n",
              "          const quickchartButtonEl =\n",
              "            document.querySelector('#' + key + ' button');\n",
              "          quickchartButtonEl.disabled = true;  // To prevent multiple clicks.\n",
              "          quickchartButtonEl.classList.add('colab-df-spinner');\n",
              "          try {\n",
              "            const charts = await google.colab.kernel.invokeFunction(\n",
              "                'suggestCharts', [key], {});\n",
              "          } catch (error) {\n",
              "            console.error('Error during call to suggestCharts:', error);\n",
              "          }\n",
              "          quickchartButtonEl.classList.remove('colab-df-spinner');\n",
              "          quickchartButtonEl.classList.add('colab-df-quickchart-complete');\n",
              "        }\n",
              "        (() => {\n",
              "          let quickchartButtonEl =\n",
              "            document.querySelector('#df-307cb68b-fae2-42b7-ac8e-d342c6436590 button');\n",
              "          quickchartButtonEl.style.display =\n",
              "            google.colab.kernel.accessAllowed ? 'block' : 'none';\n",
              "        })();\n",
              "      </script>\n",
              "    </div>\n",
              "\n",
              "    </div>\n",
              "  </div>\n"
            ],
            "application/vnd.google.colaboratory.intrinsic+json": {
              "type": "dataframe",
              "variable_name": "circles",
              "summary": "{\n  \"name\": \"circles\",\n  \"rows\": 1000,\n  \"fields\": [\n    {\n      \"column\": \"X1\",\n      \"properties\": {\n        \"dtype\": \"number\",\n        \"std\": 0.6398365674574611,\n        \"min\": -1.0595024599098635,\n        \"max\": 1.0337117525463373,\n        \"num_unique_values\": 1000,\n        \"samples\": [\n          -0.3751930206933384,\n          0.015380346701456493,\n          -0.7027835978832848\n        ],\n        \"semantic_type\": \"\",\n        \"description\": \"\"\n      }\n    },\n    {\n      \"column\": \"X2\",\n      \"properties\": {\n        \"dtype\": \"number\",\n        \"std\": 0.6411559581015379,\n        \"min\": -1.0677683182718436,\n        \"max\": 1.0360036756154805,\n        \"num_unique_values\": 1000,\n        \"samples\": [\n          0.6826597225888621,\n          0.9600260220697324,\n          -0.3147169925147762\n        ],\n        \"semantic_type\": \"\",\n        \"description\": \"\"\n      }\n    },\n    {\n      \"column\": \"label\",\n      \"properties\": {\n        \"dtype\": \"number\",\n        \"std\": 0,\n        \"min\": 0,\n        \"max\": 1,\n        \"num_unique_values\": 2,\n        \"samples\": [\n          0,\n          1\n        ],\n        \"semantic_type\": \"\",\n        \"description\": \"\"\n      }\n    }\n  ]\n}"
            }
          },
          "metadata": {},
          "execution_count": 94
        }
      ]
    },
    {
      "cell_type": "code",
      "source": [
        "X = torch.from_numpy(X).type(torch.float)\n",
        "y = torch.from_numpy(y).type(torch.float)\n",
        "X.shape, y.shape"
      ],
      "metadata": {
        "colab": {
          "base_uri": "https://localhost:8080/"
        },
        "id": "5tvZEx9SxI1R",
        "outputId": "f29ed231-e56d-4291-f01d-d50f599fd1c2"
      },
      "execution_count": 95,
      "outputs": [
        {
          "output_type": "execute_result",
          "data": {
            "text/plain": [
              "(torch.Size([1000, 2]), torch.Size([1000]))"
            ]
          },
          "metadata": {},
          "execution_count": 95
        }
      ]
    },
    {
      "cell_type": "code",
      "source": [
        "from sklearn.model_selection import train_test_split\n",
        "\n",
        "X_train, X_test, y_train, y_test = train_test_split(X,y, train_size = 0.8, random_state = 601)\n",
        "\n",
        "len(X_train), len(X_test), len(y_train), len(y_test)"
      ],
      "metadata": {
        "colab": {
          "base_uri": "https://localhost:8080/"
        },
        "id": "apOtad9Xxwlg",
        "outputId": "1b047001-e700-423e-9998-d0947056f32d"
      },
      "execution_count": 96,
      "outputs": [
        {
          "output_type": "execute_result",
          "data": {
            "text/plain": [
              "(800, 200, 800, 200)"
            ]
          },
          "metadata": {},
          "execution_count": 96
        }
      ]
    },
    {
      "cell_type": "code",
      "source": [
        "class SingleClassifierModel(nn.Module):\n",
        "  def __init__(self, in_shape, hidden_units, out_shape):\n",
        "    super().__init__()\n",
        "\n",
        "    self.layers = nn.Sequential(\n",
        "        nn.Linear(in_features=in_shape, out_features=hidden_units),\n",
        "        nn.ReLU(),\n",
        "        nn.Linear(in_features=hidden_units, out_features=hidden_units),\n",
        "        nn.ReLU(),\n",
        "        nn.Linear(in_features=hidden_units, out_features=out_shape),\n",
        "    )\n",
        "\n",
        "  def forward(self,x):\n",
        "    return self.layers(x)\n",
        "\n",
        "class_model = SingleClassifierModel(in_shape=2, hidden_units=10, out_shape=1).to(device)\n",
        "class_model"
      ],
      "metadata": {
        "colab": {
          "base_uri": "https://localhost:8080/"
        },
        "id": "gWDU2JDtyAy3",
        "outputId": "decded39-f555-4ffa-e5be-ce8aee3674e1"
      },
      "execution_count": 97,
      "outputs": [
        {
          "output_type": "execute_result",
          "data": {
            "text/plain": [
              "SingleClassifierModel(\n",
              "  (layers): Sequential(\n",
              "    (0): Linear(in_features=2, out_features=10, bias=True)\n",
              "    (1): ReLU()\n",
              "    (2): Linear(in_features=10, out_features=10, bias=True)\n",
              "    (3): ReLU()\n",
              "    (4): Linear(in_features=10, out_features=1, bias=True)\n",
              "  )\n",
              ")"
            ]
          },
          "metadata": {},
          "execution_count": 97
        }
      ]
    },
    {
      "cell_type": "code",
      "source": [
        "loss_fn = nn.BCEWithLogitsLoss()\n",
        "optimizer = torch.optim.SGD(class_model.parameters(), lr=0.1)"
      ],
      "metadata": {
        "id": "FyGo1AinzqJ0"
      },
      "execution_count": 98,
      "outputs": []
    },
    {
      "cell_type": "code",
      "source": [
        "try:\n",
        "  from torchmetrics.classification import BinaryAccuracy\n",
        "except:\n",
        "  !pip install torchmetrics\n",
        "  from torchmetrics.classification import BinaryAccuracy\n"
      ],
      "metadata": {
        "id": "niNXAdCs08aW"
      },
      "execution_count": 99,
      "outputs": []
    },
    {
      "cell_type": "code",
      "source": [
        "acc_fn = BinaryAccuracy().to(device)"
      ],
      "metadata": {
        "id": "Gt0lkNZw060X"
      },
      "execution_count": 100,
      "outputs": []
    },
    {
      "cell_type": "code",
      "source": [
        "torch.cuda.manual_seed(601)\n",
        "torch.manual_seed(601)\n",
        "\n",
        "epochs = 1000\n",
        "\n",
        "X_train, y_train = X_train.to(device), y_train.to(device)\n",
        "X_test, y_test = X_test.to(device), y_test.to(device)\n",
        "\n",
        "for epoch in range(epochs):\n",
        "\n",
        "  class_model.train()\n",
        "\n",
        "  logits = class_model(X_train).squeeze()\n",
        "  y_pred_proba = torch.sigmoid(logits)\n",
        "  y_pred = torch.round(y_pred_proba)\n",
        "\n",
        "  loss = loss_fn(logits, y_train)\n",
        "  acc = acc_fn(y_pred,y_train)\n",
        "\n",
        "  optimizer.zero_grad()\n",
        "  loss.backward()\n",
        "  optimizer.step()\n",
        "\n",
        "  class_model.eval()\n",
        "  with torch.inference_mode():\n",
        "    logits = class_model(X_test).squeeze()\n",
        "    y_pred_proba = torch.sigmoid(logits)\n",
        "    y_pred = torch.round(y_pred_proba)\n",
        "\n",
        "    loss_test = loss_fn(logits, y_test)\n",
        "    acc_test = acc_fn(y_pred,y_test)\n",
        "\n",
        "  if epoch % 100 == 0:\n",
        "    print(f'Epoch: {epoch}, Train Loss: {loss}, Train Acc: {acc}, Test Loss: {loss_test}, Test Acc: {acc_test}')"
      ],
      "metadata": {
        "colab": {
          "base_uri": "https://localhost:8080/"
        },
        "id": "YAegvXBWz8Am",
        "outputId": "4d90e5cd-9d17-49ba-b134-3634cb88a6ae"
      },
      "execution_count": 101,
      "outputs": [
        {
          "output_type": "stream",
          "name": "stdout",
          "text": [
            "Epoch: 0, Train Loss: 0.7047103047370911, Train Acc: 0.4937500059604645, Test Loss: 0.6940680742263794, Test Acc: 0.5249999761581421\n",
            "Epoch: 100, Train Loss: 0.6923341155052185, Train Acc: 0.574999988079071, Test Loss: 0.6911073923110962, Test Acc: 0.5849999785423279\n",
            "Epoch: 200, Train Loss: 0.6901578903198242, Train Acc: 0.6075000166893005, Test Loss: 0.6901924014091492, Test Acc: 0.6100000143051147\n",
            "Epoch: 300, Train Loss: 0.6875978708267212, Train Acc: 0.6337500214576721, Test Loss: 0.6883881092071533, Test Acc: 0.625\n",
            "Epoch: 400, Train Loss: 0.6839185953140259, Train Acc: 0.6312500238418579, Test Loss: 0.6855964660644531, Test Acc: 0.6150000095367432\n",
            "Epoch: 500, Train Loss: 0.6774665713310242, Train Acc: 0.6349999904632568, Test Loss: 0.6805399656295776, Test Acc: 0.6100000143051147\n",
            "Epoch: 600, Train Loss: 0.6671475172042847, Train Acc: 0.6587499976158142, Test Loss: 0.6709545254707336, Test Acc: 0.625\n",
            "Epoch: 700, Train Loss: 0.6496069431304932, Train Acc: 0.7225000262260437, Test Loss: 0.6535713076591492, Test Acc: 0.7250000238418579\n",
            "Epoch: 800, Train Loss: 0.6146706342697144, Train Acc: 0.887499988079071, Test Loss: 0.6188504695892334, Test Acc: 0.8949999809265137\n",
            "Epoch: 900, Train Loss: 0.546465277671814, Train Acc: 0.9487500190734863, Test Loss: 0.5503818392753601, Test Acc: 0.9350000023841858\n"
          ]
        }
      ]
    },
    {
      "cell_type": "markdown",
      "source": [
        "# Classification Model - Multi Class"
      ],
      "metadata": {
        "id": "Ynbssk8Z2pjb"
      }
    },
    {
      "cell_type": "code",
      "source": [
        "import torch\n",
        "from torch import nn"
      ],
      "metadata": {
        "id": "Br_b-w8g2sNw"
      },
      "execution_count": 102,
      "outputs": []
    },
    {
      "cell_type": "code",
      "source": [
        "device = 'cuda' if torch.cuda.is_available() else 'cpu'\n",
        "device"
      ],
      "metadata": {
        "colab": {
          "base_uri": "https://localhost:8080/",
          "height": 0
        },
        "id": "zvfaJfkn21Jg",
        "outputId": "c3e07c44-b634-4c8a-dafa-75423ba255fb"
      },
      "execution_count": 103,
      "outputs": [
        {
          "output_type": "execute_result",
          "data": {
            "text/plain": [
              "'cuda'"
            ],
            "application/vnd.google.colaboratory.intrinsic+json": {
              "type": "string"
            }
          },
          "metadata": {},
          "execution_count": 103
        }
      ]
    },
    {
      "cell_type": "code",
      "source": [
        "from sklearn.datasets import make_blobs\n",
        "from sklearn.model_selection import train_test_split\n",
        "\n",
        "# Set the hyperparameters for data creation\n",
        "NUM_CLASSES = 4\n",
        "NUM_FEATURES = 2\n",
        "RANDOM_SEED = 42\n",
        "\n",
        "# 1. Create multi-class data\n",
        "X, y = make_blobs(n_samples=1000,\n",
        "    n_features=NUM_FEATURES, # X features\n",
        "    centers=NUM_CLASSES, # y labels\n",
        "    cluster_std=1.5, # give the clusters a little shake up (try changing this to 1.0, the default)\n",
        "    random_state=RANDOM_SEED\n",
        ")\n",
        "\n",
        "X = torch.from_numpy(X).type(torch.float)\n",
        "y = torch.from_numpy(y)\n",
        "\n",
        "X[:10], y[:10]"
      ],
      "metadata": {
        "colab": {
          "base_uri": "https://localhost:8080/"
        },
        "id": "JeQroEbp25rG",
        "outputId": "5ab3edc5-db7b-4651-bd6e-79edaf3d550d"
      },
      "execution_count": 104,
      "outputs": [
        {
          "output_type": "execute_result",
          "data": {
            "text/plain": [
              "(tensor([[-8.4134,  6.9352],\n",
              "         [-5.7665, -6.4312],\n",
              "         [-6.0421, -6.7661],\n",
              "         [ 3.9508,  0.6984],\n",
              "         [ 4.2505, -0.2815],\n",
              "         [-6.7941, -6.4772],\n",
              "         [ 5.2102,  2.8890],\n",
              "         [-5.5051, -6.3604],\n",
              "         [-6.5438, -4.8339],\n",
              "         [ 6.4496,  0.7478]]),\n",
              " tensor([3, 2, 2, 1, 1, 2, 1, 2, 2, 1]))"
            ]
          },
          "metadata": {},
          "execution_count": 104
        }
      ]
    },
    {
      "cell_type": "code",
      "source": [
        "n_classes = int(max(torch.unique(y)) + 1)\n",
        "n_classes"
      ],
      "metadata": {
        "colab": {
          "base_uri": "https://localhost:8080/"
        },
        "id": "N4Hvbd_J5C-e",
        "outputId": "652016df-57ee-4f4f-9f30-2aaf425c3bdf"
      },
      "execution_count": 105,
      "outputs": [
        {
          "output_type": "execute_result",
          "data": {
            "text/plain": [
              "4"
            ]
          },
          "metadata": {},
          "execution_count": 105
        }
      ]
    },
    {
      "cell_type": "code",
      "source": [
        "from sklearn.model_selection import train_test_split\n",
        "\n",
        "X_train, X_test, y_train, y_test = train_test_split(X,y, train_size=0.8, random_state = 601)"
      ],
      "metadata": {
        "id": "wg5V7_xk29qx"
      },
      "execution_count": 106,
      "outputs": []
    },
    {
      "cell_type": "code",
      "source": [
        "class MultiClassifierModel(nn.Module):\n",
        "  def __init__(self,in_shape, hidden_units, out_shape):\n",
        "    super().__init__()\n",
        "\n",
        "    self.layers = nn.Sequential(\n",
        "        nn.Linear(in_features=in_shape, out_features=hidden_units),\n",
        "        nn.ReLU(),\n",
        "        nn.Linear(in_features=hidden_units, out_features=hidden_units),\n",
        "        nn.ReLU(),\n",
        "        nn.Linear(in_features=hidden_units, out_features=out_shape),\n",
        "    )\n",
        "\n",
        "  def forward(self,x):\n",
        "    return self.layers(x)\n",
        "\n",
        "mclass_model = MultiClassifierModel(in_shape=2,\n",
        "                                    hidden_units=10,\n",
        "                                    out_shape=n_classes).to(device)\n",
        "mclass_model"
      ],
      "metadata": {
        "colab": {
          "base_uri": "https://localhost:8080/"
        },
        "id": "lWXRPSVY4ohk",
        "outputId": "b66eaee5-97a6-493d-cb79-c0f32ccff437"
      },
      "execution_count": 107,
      "outputs": [
        {
          "output_type": "execute_result",
          "data": {
            "text/plain": [
              "MultiClassifierModel(\n",
              "  (layers): Sequential(\n",
              "    (0): Linear(in_features=2, out_features=10, bias=True)\n",
              "    (1): ReLU()\n",
              "    (2): Linear(in_features=10, out_features=10, bias=True)\n",
              "    (3): ReLU()\n",
              "    (4): Linear(in_features=10, out_features=4, bias=True)\n",
              "  )\n",
              ")"
            ]
          },
          "metadata": {},
          "execution_count": 107
        }
      ]
    },
    {
      "cell_type": "code",
      "source": [
        "loss_fn = nn.CrossEntropyLoss()\n",
        "optimizer = torch.optim.SGD(mclass_model.parameters(), lr=0.1)"
      ],
      "metadata": {
        "id": "V4__yuvF5ka7"
      },
      "execution_count": 108,
      "outputs": []
    },
    {
      "cell_type": "code",
      "source": [
        "try:\n",
        "  from torchmetrics.classification import MulticlassAccuracy\n",
        "except:\n",
        "  !pip install torchmetrics\n",
        "  from torchmetrics.classification import MulticlassAccuracy\n"
      ],
      "metadata": {
        "id": "cuvQVyzIrhMx"
      },
      "execution_count": 109,
      "outputs": []
    },
    {
      "cell_type": "code",
      "source": [
        "acc_fn = MulticlassAccuracy(num_classes=n_classes).to(device)"
      ],
      "metadata": {
        "id": "e7RlVXUS6udj"
      },
      "execution_count": 110,
      "outputs": []
    },
    {
      "cell_type": "code",
      "source": [
        "torch.cuda.manual_seed(601)\n",
        "torch.manual_seed(601)\n",
        "\n",
        "epochs = 1000\n",
        "\n",
        "X_train, y_train = X_train.to(device), y_train.to(device)\n",
        "X_test, y_test = X_test.to(device), y_test.to(device)\n",
        "\n",
        "for epoch in range(epochs):\n",
        "\n",
        "  mclass_model.train()\n",
        "\n",
        "  logits = mclass_model(X_train)\n",
        "  y_pred_probas = torch.softmax(logits,dim=1)\n",
        "  y_pred = torch.argmax(y_pred_probas,dim=1)\n",
        "\n",
        "  loss = loss_fn(logits,y_train)\n",
        "  acc = acc_fn(y_pred,y_train)\n",
        "\n",
        "  optimizer.zero_grad()\n",
        "  loss.backward()\n",
        "  optimizer.step()\n",
        "\n",
        "  mclass_model.eval()\n",
        "  with torch.inference_mode():\n",
        "    logits = mclass_model(X_test)\n",
        "    y_pred_probas = torch.softmax(logits,dim=1)\n",
        "    y_pred = torch.argmax(y_pred_probas,dim=1)\n",
        "\n",
        "    loss_test = loss_fn(logits,y_test)\n",
        "    acc_test = acc_fn(y_pred,y_test)\n",
        "\n",
        "  if epoch % 100 == 0:\n",
        "    print(f'Epoch: {epoch}, Train Loss: {loss:.5}, Train Acc: {acc:.2f}%, Test Loss: {loss_test:.5}, Test Acc: {acc_test:.2f}%')"
      ],
      "metadata": {
        "colab": {
          "base_uri": "https://localhost:8080/"
        },
        "id": "lr_zIzhW5ziK",
        "outputId": "c4e2ba9c-e000-45d7-9577-1bebcbce7eab"
      },
      "execution_count": 111,
      "outputs": [
        {
          "output_type": "stream",
          "name": "stdout",
          "text": [
            "Epoch: 0, Train Loss: 1.3452, Train Acc: 0.37%, Test Loss: 1.219, Test Acc: 0.49%\n",
            "Epoch: 100, Train Loss: 0.027071, Train Acc: 0.99%, Test Loss: 0.047189, Test Acc: 0.99%\n",
            "Epoch: 200, Train Loss: 0.019319, Train Acc: 0.99%, Test Loss: 0.046727, Test Acc: 0.99%\n",
            "Epoch: 300, Train Loss: 0.017058, Train Acc: 0.99%, Test Loss: 0.048715, Test Acc: 0.99%\n",
            "Epoch: 400, Train Loss: 0.015954, Train Acc: 0.99%, Test Loss: 0.050546, Test Acc: 0.99%\n",
            "Epoch: 500, Train Loss: 0.015273, Train Acc: 0.99%, Test Loss: 0.052025, Test Acc: 0.99%\n",
            "Epoch: 600, Train Loss: 0.01479, Train Acc: 0.99%, Test Loss: 0.05315, Test Acc: 0.99%\n",
            "Epoch: 700, Train Loss: 0.014404, Train Acc: 0.99%, Test Loss: 0.054015, Test Acc: 0.99%\n",
            "Epoch: 800, Train Loss: 0.014075, Train Acc: 0.99%, Test Loss: 0.05466, Test Acc: 0.99%\n",
            "Epoch: 900, Train Loss: 0.01379, Train Acc: 0.99%, Test Loss: 0.055132, Test Acc: 0.99%\n"
          ]
        }
      ]
    },
    {
      "cell_type": "markdown",
      "source": [
        "# Image Detection Model - no data Augmentation"
      ],
      "metadata": {
        "id": "j2M2AKvh8sKt"
      }
    },
    {
      "cell_type": "code",
      "source": [
        "import torch\n",
        "from torch import nn\n",
        "\n",
        "from torchvision import datasets\n",
        "from torchvision.transforms import ToTensor"
      ],
      "metadata": {
        "id": "M73Uh1vX7syJ"
      },
      "execution_count": 112,
      "outputs": []
    },
    {
      "cell_type": "code",
      "source": [
        "# Setup training data\n",
        "train_data = datasets.FashionMNIST(\n",
        "    root=\"data\", # where to download data to?\n",
        "    train=True, # get training data\n",
        "    download=True, # download data if it doesn't exist on disk\n",
        "    transform=ToTensor(), # images come as PIL format, we want to turn into Torch tensors\n",
        "    target_transform=None # you can transform labels as well\n",
        ")\n",
        "\n",
        "# Setup testing data\n",
        "test_data = datasets.FashionMNIST(\n",
        "    root=\"data\",\n",
        "    train=False, # get test data\n",
        "    download=True,\n",
        "    transform=ToTensor()\n",
        ")\n",
        "\n",
        "len(train_data.data), len(train_data.targets), len(test_data.data), len(test_data.targets)"
      ],
      "metadata": {
        "colab": {
          "base_uri": "https://localhost:8080/"
        },
        "id": "1ipfryfFbDiY",
        "outputId": "14b22246-9b82-4ea6-d317-41630777d424"
      },
      "execution_count": 113,
      "outputs": [
        {
          "output_type": "execute_result",
          "data": {
            "text/plain": [
              "(60000, 60000, 10000, 10000)"
            ]
          },
          "metadata": {},
          "execution_count": 113
        }
      ]
    },
    {
      "cell_type": "code",
      "source": [
        "class_names = train_data.classes"
      ],
      "metadata": {
        "id": "MLGgztyAjoQn"
      },
      "execution_count": 114,
      "outputs": []
    },
    {
      "cell_type": "code",
      "source": [
        "train_data.classes, train_data.class_to_idx"
      ],
      "metadata": {
        "colab": {
          "base_uri": "https://localhost:8080/"
        },
        "id": "q4a-ZXpXbOGE",
        "outputId": "ebf7b568-6f93-46c1-e5e3-c3541295bb36"
      },
      "execution_count": 115,
      "outputs": [
        {
          "output_type": "execute_result",
          "data": {
            "text/plain": [
              "(['T-shirt/top',\n",
              "  'Trouser',\n",
              "  'Pullover',\n",
              "  'Dress',\n",
              "  'Coat',\n",
              "  'Sandal',\n",
              "  'Shirt',\n",
              "  'Sneaker',\n",
              "  'Bag',\n",
              "  'Ankle boot'],\n",
              " {'T-shirt/top': 0,\n",
              "  'Trouser': 1,\n",
              "  'Pullover': 2,\n",
              "  'Dress': 3,\n",
              "  'Coat': 4,\n",
              "  'Sandal': 5,\n",
              "  'Shirt': 6,\n",
              "  'Sneaker': 7,\n",
              "  'Bag': 8,\n",
              "  'Ankle boot': 9})"
            ]
          },
          "metadata": {},
          "execution_count": 115
        }
      ]
    },
    {
      "cell_type": "code",
      "source": [
        "import matplotlib.pyplot as plt\n",
        "\n",
        "image, label = train_data[0]\n",
        "print(f'Image shape: {image.shape}')\n",
        "plt.imshow(image.squeeze())\n",
        "plt.title(label)"
      ],
      "metadata": {
        "colab": {
          "base_uri": "https://localhost:8080/",
          "height": 487
        },
        "id": "XTqMbkByb4Q7",
        "outputId": "80d317d0-4eb2-4e22-83d0-6870d399001f"
      },
      "execution_count": 116,
      "outputs": [
        {
          "output_type": "stream",
          "name": "stdout",
          "text": [
            "Image shape: torch.Size([1, 28, 28])\n"
          ]
        },
        {
          "output_type": "execute_result",
          "data": {
            "text/plain": [
              "Text(0.5, 1.0, '9')"
            ]
          },
          "metadata": {},
          "execution_count": 116
        },
        {
          "output_type": "display_data",
          "data": {
            "text/plain": [
              "<Figure size 640x480 with 1 Axes>"
            ],
            "image/png": "[encoded data removed]"
          },
          "metadata": {}
        }
      ]
    },
    {
      "cell_type": "code",
      "source": [
        "from torch.utils.data import DataLoader\n",
        "import os\n",
        "\n",
        "BATCH_SIZE = 32\n",
        "NUM_WORKERS = os.cpu_count()\n",
        "\n",
        "print(f\"Creating DataLoader's with batch size {BATCH_SIZE} and {NUM_WORKERS} workers.\")\n",
        "\n",
        "train_dataloader = DataLoader(train_data,\n",
        "                              shuffle=True,\n",
        "                              batch_size=BATCH_SIZE,\n",
        "                              num_workers = NUM_WORKERS)\n",
        "\n",
        "test_dataloader = DataLoader(test_data,\n",
        "                             shuffle=False,\n",
        "                              batch_size=BATCH_SIZE,\n",
        "                             num_workers = NUM_WORKERS)"
      ],
      "metadata": {
        "colab": {
          "base_uri": "https://localhost:8080/"
        },
        "id": "MU0Hnz24cRbA",
        "outputId": "c0445fbe-9aea-4f42-d5c1-c585e205ad12"
      },
      "execution_count": 117,
      "outputs": [
        {
          "output_type": "stream",
          "name": "stdout",
          "text": [
            "Creating DataLoader's with batch size 32 and 2 workers.\n"
          ]
        }
      ]
    },
    {
      "cell_type": "code",
      "source": [
        "image, _ = train_data[0]\n",
        "image = image.squeeze()\n",
        "image_shape = image.shape\n",
        "h,w = image_shape"
      ],
      "metadata": {
        "id": "dflIPUj-jw3f"
      },
      "execution_count": 118,
      "outputs": []
    },
    {
      "cell_type": "code",
      "source": [
        "class ImageModel(nn.Module):\n",
        "  def __init__(self,input_shape, hidden_units, output_shape, image_h, image_w):\n",
        "    super().__init__()\n",
        "\n",
        "    self.layers = nn.Sequential(\n",
        "        nn.Conv2d(in_channels=input_shape, out_channels=hidden_units, kernel_size=3, padding=1, stride= 1),\n",
        "        nn.ReLU(),\n",
        "        nn.MaxPool2d(kernel_size=2, stride= 2)\n",
        "    )\n",
        "\n",
        "    # After MaxPool2d(2): H' = image_h//2, W' = image_w//2\n",
        "    flat_features = hidden_units * (image_h // 2) * (image_w // 2)\n",
        "\n",
        "    self.classifier = nn.Sequential(\n",
        "        nn.Flatten(),\n",
        "        nn.Linear(in_features=flat_features, out_features=output_shape)\n",
        "    )\n",
        "\n",
        "  def forward(self, x):\n",
        "    return self.classifier(self.layers(x))\n",
        "\n",
        "image_model = ImageModel(input_shape= 1, hidden_units= 10, output_shape= len(class_names), image_h= h, image_w= w).to(device)\n",
        "image_model"
      ],
      "metadata": {
        "colab": {
          "base_uri": "https://localhost:8080/"
        },
        "id": "aMWz28Ungxqj",
        "outputId": "d97f0da3-4780-40ae-881d-f7960e3558e4"
      },
      "execution_count": 119,
      "outputs": [
        {
          "output_type": "execute_result",
          "data": {
            "text/plain": [
              "ImageModel(\n",
              "  (layers): Sequential(\n",
              "    (0): Conv2d(1, 10, kernel_size=(3, 3), stride=(1, 1), padding=(1, 1))\n",
              "    (1): ReLU()\n",
              "    (2): MaxPool2d(kernel_size=2, stride=2, padding=0, dilation=1, ceil_mode=False)\n",
              "  )\n",
              "  (classifier): Sequential(\n",
              "    (0): Flatten(start_dim=1, end_dim=-1)\n",
              "    (1): Linear(in_features=1960, out_features=10, bias=True)\n",
              "  )\n",
              ")"
            ]
          },
          "metadata": {},
          "execution_count": 119
        }
      ]
    },
    {
      "cell_type": "code",
      "source": [
        "try:\n",
        "  from torchinfo import summary\n",
        "except:\n",
        "  !pip install torchinfo\n",
        "  from torchinfo import summary"
      ],
      "metadata": {
        "id": "U9kTyGburKL5"
      },
      "execution_count": 120,
      "outputs": []
    },
    {
      "cell_type": "code",
      "source": [
        "from torchinfo import summary\n",
        "\n",
        "summary(image_model, input_size=[1,1,28,28])"
      ],
      "metadata": {
        "colab": {
          "base_uri": "https://localhost:8080/"
        },
        "id": "Y1dd-Vq1rCA-",
        "outputId": "a0f6d540-04b8-464a-afa5-1af7639b2ff2"
      },
      "execution_count": 121,
      "outputs": [
        {
          "output_type": "execute_result",
          "data": {
            "text/plain": [
              "==========================================================================================\n",
              "Layer (type:depth-idx)                   Output Shape              Param #\n",
              "==========================================================================================\n",
              "ImageModel                               [1, 10]                   --\n",
              "├─Sequential: 1-1                        [1, 10, 14, 14]           --\n",
              "│    └─Conv2d: 2-1                       [1, 10, 28, 28]           100\n",
              "│    └─ReLU: 2-2                         [1, 10, 28, 28]           --\n",
              "│    └─MaxPool2d: 2-3                    [1, 10, 14, 14]           --\n",
              "├─Sequential: 1-2                        [1, 10]                   --\n",
              "│    └─Flatten: 2-4                      [1, 1960]                 --\n",
              "│    └─Linear: 2-5                       [1, 10]                   19,610\n",
              "==========================================================================================\n",
              "Total params: 19,710\n",
              "Trainable params: 19,710\n",
              "Non-trainable params: 0\n",
              "Total mult-adds (Units.MEGABYTES): 0.10\n",
              "==========================================================================================\n",
              "Input size (MB): 0.00\n",
              "Forward/backward pass size (MB): 0.06\n",
              "Params size (MB): 0.08\n",
              "Estimated Total Size (MB): 0.14\n",
              "=========================================================================================="
            ]
          },
          "metadata": {},
          "execution_count": 121
        }
      ]
    },
    {
      "cell_type": "code",
      "source": [
        "loss_fn = nn.CrossEntropyLoss()\n",
        "optimizer = torch.optim.SGD(image_model.parameters(), lr=0.1)"
      ],
      "metadata": {
        "id": "KTyWhVlSgqHp"
      },
      "execution_count": 122,
      "outputs": []
    },
    {
      "cell_type": "code",
      "source": [
        "from torchmetrics.classification import MulticlassAccuracy\n",
        "\n",
        "acc_fn = MulticlassAccuracy(num_classes=len(class_names)).to(device)"
      ],
      "metadata": {
        "id": "Pt414o1IonUC"
      },
      "execution_count": 123,
      "outputs": []
    },
    {
      "cell_type": "code",
      "source": [
        "torch.cuda.manual_seed(601)\n",
        "torch.manual_seed(601)\n",
        "\n",
        "epochs = 5\n",
        "\n",
        "\n",
        "for epoch in range(epochs):\n",
        "  train_loss, train_acc = 0, 0\n",
        "  image_model.train()\n",
        "  for batch, (X,y) in enumerate(train_dataloader):\n",
        "    X,y = X.to(device), y.to(device)\n",
        "\n",
        "    y_pred_probas = image_model(X)\n",
        "    y_preds = torch.argmax(y_pred_probas,dim=1)\n",
        "\n",
        "    loss = loss_fn(y_pred_probas, y)\n",
        "    acc = acc_fn(y_preds, y)\n",
        "    train_loss += loss\n",
        "    train_acc += acc\n",
        "\n",
        "    optimizer.zero_grad()\n",
        "    loss.backward()\n",
        "    optimizer.step()\n",
        "\n",
        "  train_loss /= len(train_dataloader)\n",
        "  train_acc /= len(train_dataloader)\n",
        "\n",
        "  test_loss, test_acc = 0, 0\n",
        "  image_model.eval()\n",
        "  with torch.inference_mode():\n",
        "    for X,y in test_dataloader:\n",
        "      X,y = X.to(device), y.to(device)\n",
        "\n",
        "      y_pred_probas = image_model(X)\n",
        "      y_preds = torch.argmax(y_pred_probas,dim=1)\n",
        "\n",
        "      loss = loss_fn(y_pred_probas, y)\n",
        "      acc = acc_fn(y_preds, y)\n",
        "      test_loss += loss\n",
        "      test_acc += acc\n",
        "\n",
        "    test_loss /= len(test_dataloader)\n",
        "    test_acc /= len(test_dataloader)\n",
        "\n",
        "  print(f'Epoch: {epoch}, Train Loss: {train_loss:.3}, Train Acc: {train_acc*100:.2f}%, Test Loss: {test_loss:.3}, Test Acc: {test_acc*100:.2f}%')"
      ],
      "metadata": {
        "colab": {
          "base_uri": "https://localhost:8080/"
        },
        "id": "qA2zLs2Akbnu",
        "outputId": "19ae9585-9bd2-49be-fde4-8b4ff6d60637"
      },
      "execution_count": 124,
      "outputs": [
        {
          "output_type": "stream",
          "name": "stdout",
          "text": [
            "Epoch: 0, Train Loss: 0.504, Train Acc: 81.36%, Test Loss: 0.416, Test Acc: 84.69%\n",
            "Epoch: 1, Train Loss: 0.359, Train Acc: 86.47%, Test Loss: 0.369, Test Acc: 85.59%\n",
            "Epoch: 2, Train Loss: 0.327, Train Acc: 87.58%, Test Loss: 0.349, Test Acc: 86.42%\n",
            "Epoch: 3, Train Loss: 0.307, Train Acc: 88.22%, Test Loss: 0.331, Test Acc: 87.31%\n",
            "Epoch: 4, Train Loss: 0.293, Train Acc: 89.03%, Test Loss: 0.312, Test Acc: 87.87%\n"
          ]
        }
      ]
    },
    {
      "cell_type": "code",
      "source": [
        "test_data"
      ],
      "metadata": {
        "colab": {
          "base_uri": "https://localhost:8080/"
        },
        "id": "REnXfLbivMRu",
        "outputId": "dc1a6aa5-88c8-4be9-82a2-98bb47cc5955"
      },
      "execution_count": 125,
      "outputs": [
        {
          "output_type": "execute_result",
          "data": {
            "text/plain": [
              "Dataset FashionMNIST\n",
              "    Number of datapoints: 10000\n",
              "    Root location: data\n",
              "    Split: Test\n",
              "    StandardTransform\n",
              "Transform: ToTensor()"
            ]
          },
          "metadata": {},
          "execution_count": 125
        }
      ]
    },
    {
      "cell_type": "code",
      "source": [
        "image_model.eval()\n",
        "y_preds = []\n",
        "with torch.inference_mode():\n",
        "  for x, _ in test_dataloader:\n",
        "    x = x.to(device)\n",
        "    logits = image_model(x)\n",
        "    pred_probas = torch.softmax(logits, dim=1)\n",
        "    y_pred = torch.argmax(pred_probas, dim=1)\n",
        "    y_preds.append(y_pred.cpu())\n",
        "\n",
        "y_pred_tensor = torch.cat(y_preds, dim=0)\n",
        "y_pred_tensor.shape"
      ],
      "metadata": {
        "colab": {
          "base_uri": "https://localhost:8080/"
        },
        "id": "sj7ZXTnfqwns",
        "outputId": "71cf6589-c5b4-4c57-d50c-a5ae280376ea"
      },
      "execution_count": 126,
      "outputs": [
        {
          "output_type": "execute_result",
          "data": {
            "text/plain": [
              "torch.Size([10000])"
            ]
          },
          "metadata": {},
          "execution_count": 126
        }
      ]
    },
    {
      "cell_type": "code",
      "source": [
        "# See if torchmetrics exists, if not, install it\n",
        "try:\n",
        "    import torchmetrics, mlxtend\n",
        "    print(f\"mlxtend version: {mlxtend.__version__}\")\n",
        "    assert int(mlxtend.__version__.split(\".\")[1]) >= 19, \"mlxtend verison should be 0.19.0 or higher\"\n",
        "except:\n",
        "    !pip install -q torchmetrics -U mlxtend # <- Note: If you're using Google Colab, this may require restarting the runtime\n",
        "    import torchmetrics, mlxtend\n",
        "    print(f\"mlxtend version: {mlxtend.__version__}\")"
      ],
      "metadata": {
        "colab": {
          "base_uri": "https://localhost:8080/"
        },
        "id": "mL1SKrVDwCrt",
        "outputId": "6bc8b45c-9dea-48c5-ab71-707b617fd6b3"
      },
      "execution_count": 127,
      "outputs": [
        {
          "output_type": "stream",
          "name": "stdout",
          "text": [
            "mlxtend version: 0.23.4\n"
          ]
        }
      ]
    },
    {
      "cell_type": "code",
      "source": [
        "from torchmetrics import ConfusionMatrix\n",
        "from mlxtend.plotting import plot_confusion_matrix\n",
        "\n",
        "confmat = ConfusionMatrix(num_classes = len(class_names), task='multiclass')\n",
        "confmat_tensor = confmat(preds=y_pred_tensor,target=test_data.targets)\n",
        "\n",
        "fig, ax = plot_confusion_matrix(\n",
        "    conf_mat=confmat_tensor.numpy(),\n",
        "    class_names=class_names,\n",
        "    figsize=(10, 7)\n",
        ");"
      ],
      "metadata": {
        "colab": {
          "base_uri": "https://localhost:8080/",
          "height": 667
        },
        "id": "9bjpPYArxX2P",
        "outputId": "cd27eef1-2faa-4cfb-d272-d20e4dc40903"
      },
      "execution_count": 128,
      "outputs": [
        {
          "output_type": "display_data",
          "data": {
            "text/plain": [
              "<Figure size 1000x700 with 1 Axes>"
            ],
            "image/png": "[encoded data removed]"
          },
          "metadata": {}
        }
      ]
    },
    {
      "cell_type": "markdown",
      "source": [
        "# Image Detection Model - with Augmentation"
      ],
      "metadata": {
        "id": "oa4J7297x59h"
      }
    },
    {
      "cell_type": "code",
      "source": [
        "import torch\n",
        "from torch import nn\n",
        "from torch.utils.data import DataLoader\n",
        "from torchvision import datasets, transforms"
      ],
      "metadata": {
        "id": "D-zIqf9-x8Vp"
      },
      "execution_count": 1,
      "outputs": []
    },
    {
      "cell_type": "code",
      "source": [
        "device = 'cuda' if torch.cuda.is_available() else 'cpu'\n",
        "device"
      ],
      "metadata": {
        "colab": {
          "base_uri": "https://localhost:8080/",
          "height": 35
        },
        "id": "DQu9dmlCrdz7",
        "outputId": "f7cc11ed-a22e-4b3c-fe0a-ac5f3853d396"
      },
      "execution_count": 2,
      "outputs": [
        {
          "output_type": "execute_result",
          "data": {
            "text/plain": [
              "'cuda'"
            ],
            "application/vnd.google.colaboratory.intrinsic+json": {
              "type": "string"
            }
          },
          "metadata": {},
          "execution_count": 2
        }
      ]
    },
    {
      "cell_type": "code",
      "source": [
        "# check original images\n",
        "\n",
        "check_images = datasets.Flowers102(\n",
        "    root=\"data\", # where to download data to?\n",
        "    # train=True, # get training data\n",
        "    split = 'test',\n",
        "    download=True, # download data if it doesn't exist on disk\n",
        "    transform=transforms.ToTensor(),\n",
        "    target_transform=None # you can transform labels as well\n",
        ")"
      ],
      "metadata": {
        "id": "mJiWF-CAxEaQ"
      },
      "execution_count": 3,
      "outputs": []
    },
    {
      "cell_type": "code",
      "source": [
        "data_transform_train = transforms.Compose([\n",
        "    transforms.Resize(size=(128, 128)),\n",
        "    # Flip the images randomly on the horizontal\n",
        "    transforms.RandomHorizontalFlip(p=0.5), # p = probability of flip, 0.5 = 50% chance\n",
        "    # Turn the image into a torch.Tensor\n",
        "    transforms.ToTensor() # this also converts all pixel values from 0 to 255 to be between 0.0 and 1.0\n",
        "])\n",
        "\n",
        "data_transform_test = transforms.Compose([\n",
        "    transforms.Resize(size=(128, 128)),\n",
        "    # Turn the image into a torch.Tensor\n",
        "    transforms.ToTensor() # this also converts all pixel values from 0 to 255 to be between 0.0 and 1.0\n",
        "])"
      ],
      "metadata": {
        "id": "8wnP0SONnH2k"
      },
      "execution_count": 4,
      "outputs": []
    },
    {
      "cell_type": "code",
      "source": [
        "# Setup training data\n",
        "train_data = datasets.Flowers102(\n",
        "    root=\"data\", # where to download data to?\n",
        "    split = 'train',\n",
        "    download=True, # download data if it doesn't exist on disk\n",
        "    transform=data_transform_train,\n",
        "    target_transform=None # you can transform labels as well\n",
        ")\n",
        "\n",
        "# Setup testing data\n",
        "test_data = datasets.Flowers102(\n",
        "    root=\"data\",\n",
        "    split = 'test',\n",
        "    download=True,\n",
        "    transform=data_transform_test,\n",
        ")\n",
        "\n",
        "len(train_data), len(test_data)"
      ],
      "metadata": {
        "colab": {
          "base_uri": "https://localhost:8080/"
        },
        "id": "OIjzQ7Brnbyw",
        "outputId": "eb294914-1a53-4e70-a0ea-7f7ddfff099c"
      },
      "execution_count": 5,
      "outputs": [
        {
          "output_type": "execute_result",
          "data": {
            "text/plain": [
              "(1020, 6149)"
            ]
          },
          "metadata": {},
          "execution_count": 5
        }
      ]
    },
    {
      "cell_type": "code",
      "source": [
        "classes = test_data.classes"
      ],
      "metadata": {
        "id": "Kdk1HpSEx0LF"
      },
      "execution_count": 6,
      "outputs": []
    },
    {
      "cell_type": "code",
      "source": [
        "import matplotlib.pyplot as plt\n",
        "from PIL import Image\n",
        "\n",
        "im, label_idx = test_data.__getitem__(5)\n",
        "label = classes[label_idx]\n",
        "original_im, original_label_idx = check_images.__getitem__(5)\n",
        "original_label = classes[original_label_idx]\n",
        "print(f'Original Image shape: {original_im.shape}')\n",
        "print(f'Image shape: {im.shape}')\n",
        "\n",
        "fig, ax = plt.subplots(1, 2)\n",
        "ax[0].imshow(original_im.detach().cpu().permute(1, 2, 0))\n",
        "ax[0].set_title(original_label)\n",
        "ax[0].axis(\"off\")\n",
        "\n",
        "ax[1].imshow(im.detach().cpu().permute(1, 2, 0))\n",
        "ax[1].set_title(label)\n",
        "ax[1].axis(\"off\")"
      ],
      "metadata": {
        "colab": {
          "base_uri": "https://localhost:8080/",
          "height": 336
        },
        "id": "jd4RlzWZtPom",
        "outputId": "bb2890ca-c95c-496c-9f0f-8d33a55959a2"
      },
      "execution_count": 7,
      "outputs": [
        {
          "output_type": "stream",
          "name": "stdout",
          "text": [
            "Original Image shape: torch.Size([3, 500, 609])\n",
            "Image shape: torch.Size([3, 128, 128])\n"
          ]
        },
        {
          "output_type": "execute_result",
          "data": {
            "text/plain": [
              "(np.float64(-0.5), np.float64(127.5), np.float64(127.5), np.float64(-0.5))"
            ]
          },
          "metadata": {},
          "execution_count": 7
        },
        {
          "output_type": "display_data",
          "data": {
            "text/plain": [
              "<Figure size 640x480 with 2 Axes>"
            ],
            "image/png": "[encoded data removed]"
          },
          "metadata": {}
        }
      ]
    },
    {
      "cell_type": "code",
      "source": [
        "from torch.utils.data import DataLoader\n",
        "import os\n",
        "\n",
        "BATCH_SIZE = 32\n",
        "NUM_WORKERS= os.cpu_count()\n",
        "\n",
        "train_dataloader = DataLoader(\n",
        "    train_data,\n",
        "    batch_size = BATCH_SIZE,\n",
        "    shuffle = True,\n",
        "    num_workers=NUM_WORKERS\n",
        ")\n",
        "\n",
        "test_dataloader = DataLoader(\n",
        "    test_data,\n",
        "    batch_size = BATCH_SIZE,\n",
        "    shuffle = False,\n",
        "    num_workers=NUM_WORKERS\n",
        ")"
      ],
      "metadata": {
        "id": "ulpVZo0Hn0pv"
      },
      "execution_count": 8,
      "outputs": []
    },
    {
      "cell_type": "code",
      "source": [
        "colours, h_pixels, w_pixels = im.shape\n",
        "h_pixels, w_pixels"
      ],
      "metadata": {
        "colab": {
          "base_uri": "https://localhost:8080/"
        },
        "id": "oshr3AYDp7DU",
        "outputId": "595d3b34-be55-4062-859b-699bbdcf67a2"
      },
      "execution_count": 9,
      "outputs": [
        {
          "output_type": "execute_result",
          "data": {
            "text/plain": [
              "(128, 128)"
            ]
          },
          "metadata": {},
          "execution_count": 9
        }
      ]
    },
    {
      "cell_type": "code",
      "source": [
        "num_classes = len(classes)"
      ],
      "metadata": {
        "id": "jqGlg8aIpxC_"
      },
      "execution_count": 10,
      "outputs": []
    },
    {
      "cell_type": "code",
      "source": [
        "try:\n",
        "  from torchinfo import summary\n",
        "except:\n",
        "  !pip install torchinfo\n",
        "  from torchinfo import summary"
      ],
      "metadata": {
        "id": "U2XPDGyyr909"
      },
      "execution_count": 11,
      "outputs": []
    },
    {
      "cell_type": "code",
      "source": [
        "class ImageModelV2(nn.Module):\n",
        "  def __init__(self, in_shape, hidden_units, out_shape, h_pixels, w_pixels):\n",
        "    super().__init__()\n",
        "\n",
        "    self.layers = nn.Sequential(\n",
        "        nn.Conv2d(in_channels=in_shape, out_channels=hidden_units, kernel_size = 3, stride = 1, padding = 1),\n",
        "        nn.ReLU(),\n",
        "        nn.Conv2d(in_channels=hidden_units, out_channels=hidden_units, kernel_size = 3, stride = 1, padding = 1),\n",
        "        nn.ReLU(),\n",
        "        nn.Conv2d(in_channels=hidden_units, out_channels=hidden_units, kernel_size = 3, stride = 1, padding = 1),\n",
        "        nn.ReLU(),\n",
        "        nn.MaxPool2d(kernel_size=2, stride=2)\n",
        "    )\n",
        "\n",
        "    flatten_shape = int(hidden_units * (h_pixels/2) * (w_pixels/2))\n",
        "\n",
        "    self.classifier = nn.Sequential(\n",
        "        nn.Flatten(),\n",
        "        nn.Linear(in_features=flatten_shape, out_features=out_shape)\n",
        "    )\n",
        "\n",
        "  def forward(self, x):\n",
        "    return self.classifier(self.layers(x))\n",
        "\n",
        "image_model_v2 = ImageModelV2(\n",
        "    in_shape = 3,\n",
        "    hidden_units = 32,\n",
        "    out_shape = num_classes,\n",
        "    h_pixels = h_pixels,\n",
        "    w_pixels = w_pixels\n",
        ").to(device)\n",
        "\n",
        "summary(image_model_v2,input_size=[1,3,128,128])"
      ],
      "metadata": {
        "colab": {
          "base_uri": "https://localhost:8080/"
        },
        "id": "GAtB5i-HosIf",
        "outputId": "5f4c8a39-4568-46da-c0ac-b2cccab57d6b"
      },
      "execution_count": 20,
      "outputs": [
        {
          "output_type": "execute_result",
          "data": {
            "text/plain": [
              "==========================================================================================\n",
              "Layer (type:depth-idx)                   Output Shape              Param #\n",
              "==========================================================================================\n",
              "ImageModelV2                             [1, 102]                  --\n",
              "├─Sequential: 1-1                        [1, 32, 64, 64]           --\n",
              "│    └─Conv2d: 2-1                       [1, 32, 128, 128]         896\n",
              "│    └─ReLU: 2-2                         [1, 32, 128, 128]         --\n",
              "│    └─Conv2d: 2-3                       [1, 32, 128, 128]         9,248\n",
              "│    └─ReLU: 2-4                         [1, 32, 128, 128]         --\n",
              "│    └─Conv2d: 2-5                       [1, 32, 128, 128]         9,248\n",
              "│    └─ReLU: 2-6                         [1, 32, 128, 128]         --\n",
              "│    └─MaxPool2d: 2-7                    [1, 32, 64, 64]           --\n",
              "├─Sequential: 1-2                        [1, 102]                  --\n",
              "│    └─Flatten: 2-8                      [1, 131072]               --\n",
              "│    └─Linear: 2-9                       [1, 102]                  13,369,446\n",
              "==========================================================================================\n",
              "Total params: 13,388,838\n",
              "Trainable params: 13,388,838\n",
              "Non-trainable params: 0\n",
              "Total mult-adds (Units.MEGABYTES): 331.09\n",
              "==========================================================================================\n",
              "Input size (MB): 0.20\n",
              "Forward/backward pass size (MB): 12.58\n",
              "Params size (MB): 53.56\n",
              "Estimated Total Size (MB): 66.34\n",
              "=========================================================================================="
            ]
          },
          "metadata": {},
          "execution_count": 20
        }
      ]
    },
    {
      "cell_type": "code",
      "source": [
        "loss_fn = nn.CrossEntropyLoss()\n",
        "optimizer = torch.optim.SGD(image_model_v2.parameters(), lr=0.01)"
      ],
      "metadata": {
        "id": "KZXPtfkOrn_t"
      },
      "execution_count": 21,
      "outputs": []
    },
    {
      "cell_type": "code",
      "source": [
        "try:\n",
        "  from torchmetrics.classification import MulticlassAccuracy\n",
        "except:\n",
        "  !pip install torchmetrics\n",
        "  from torchmetrics.classification import MulticlassAccuracy"
      ],
      "metadata": {
        "id": "TxBxUm0er8JJ"
      },
      "execution_count": 22,
      "outputs": []
    },
    {
      "cell_type": "code",
      "source": [
        "acc_fn = MulticlassAccuracy(num_classes = num_classes).to(device)"
      ],
      "metadata": {
        "id": "lOtGISOWziNb"
      },
      "execution_count": 23,
      "outputs": []
    },
    {
      "cell_type": "code",
      "source": [
        "image_model_v2.eval()\n",
        "all_preds = []\n",
        "y_list = []\n",
        "with torch.inference_mode():\n",
        "  i=0\n",
        "  for batch, (X,y) in enumerate(test_dataloader):\n",
        "    X, y = X.to(device), y.to(device)\n",
        "    logits = image_model_v2(X)\n",
        "    pred_proba = torch.softmax(logits, dim=1)\n",
        "    y_pred = torch.argmax(pred_proba, dim=1)\n",
        "    y_list.append(y)\n",
        "    all_preds.append(y_pred)\n",
        "    i+=1\n",
        "\n",
        "    if i >10:\n",
        "      break\n",
        "all_preds[0]"
      ],
      "metadata": {
        "colab": {
          "base_uri": "https://localhost:8080/"
        },
        "id": "XxaNqzAR2wgh",
        "outputId": "259cbe0f-44c6-4fed-f5e3-2ac66a6b2434"
      },
      "execution_count": 24,
      "outputs": [
        {
          "output_type": "execute_result",
          "data": {
            "text/plain": [
              "tensor([82, 82, 82, 82, 82, 82, 82, 82, 82, 82, 82, 82, 82, 82, 10, 82, 41, 84,\n",
              "        82, 82, 41, 82, 82, 82,  5, 82, 82, 82, 82, 82, 82, 82],\n",
              "       device='cuda:0')"
            ]
          },
          "metadata": {},
          "execution_count": 24
        }
      ]
    },
    {
      "cell_type": "code",
      "source": [
        "y_list[0]"
      ],
      "metadata": {
        "colab": {
          "base_uri": "https://localhost:8080/"
        },
        "id": "9uOOasuN9Uen",
        "outputId": "d538b3d9-7e36-4876-ef21-9cdf9e31dc11"
      },
      "execution_count": 25,
      "outputs": [
        {
          "output_type": "execute_result",
          "data": {
            "text/plain": [
              "tensor([0, 0, 0, 0, 0, 0, 0, 0, 0, 0, 0, 0, 0, 0, 0, 0, 0, 0, 0, 0, 1, 1, 1, 1,\n",
              "        1, 1, 1, 1, 1, 1, 1, 1], device='cuda:0')"
            ]
          },
          "metadata": {},
          "execution_count": 25
        }
      ]
    },
    {
      "cell_type": "code",
      "source": [
        "torch.cuda.manual_seed(601)\n",
        "torch.manual_seed(601)\n",
        "\n",
        "epochs = 5\n",
        "\n",
        "for epoch in range(epochs):\n",
        "\n",
        "  image_model_v2.train()\n",
        "  train_loss, train_acc = 0, 0\n",
        "  for batch, (X,y) in enumerate(train_dataloader):\n",
        "    X, y = X.to(device), y.to(device)\n",
        "\n",
        "    logits = image_model_v2(X)\n",
        "    pred_proba = torch.softmax(logits, dim=1)\n",
        "    y_pred = torch.argmax(pred_proba, dim=1)\n",
        "\n",
        "    loss = loss_fn(logits, y)\n",
        "    acc = acc_fn(y_pred, y)\n",
        "\n",
        "    train_loss += loss\n",
        "    train_acc += acc\n",
        "\n",
        "    optimizer.zero_grad()\n",
        "\n",
        "    loss.backward()\n",
        "\n",
        "    optimizer.step()\n",
        "\n",
        "  train_loss /= len(train_dataloader)\n",
        "  train_acc /= len(train_dataloader)\n",
        "\n",
        "  image_model_v2.eval()\n",
        "  test_loss, test_acc = 0, 0\n",
        "  with torch.inference_mode():\n",
        "    for batch, (X,y) in enumerate(test_dataloader):\n",
        "      X, y = X.to(device), y.to(device)\n",
        "\n",
        "      logits = image_model_v2(X)\n",
        "      pred_proba = torch.softmax(logits, dim=1)\n",
        "      y_pred = torch.argmax(pred_proba, dim=1)\n",
        "\n",
        "      loss = loss_fn(logits, y)\n",
        "      acc = acc_fn(y_pred, y)\n",
        "\n",
        "      test_loss += loss\n",
        "      test_acc += acc\n",
        "\n",
        "    test_loss /= len(test_dataloader)\n",
        "    test_acc /= len(test_dataloader)\n",
        "\n",
        "  print(f'Train Loss: {train_loss:.3f} | Train Acc: {train_acc*100:.2f}% | Test Loss: {test_loss:.3} | Test Acc: {test_acc*100:.2f}%')"
      ],
      "metadata": {
        "colab": {
          "base_uri": "https://localhost:8080/"
        },
        "id": "xuTnys7bzsu8",
        "outputId": "db99db19-e25f-4da0-86d7-0e6a138bf9ef"
      },
      "execution_count": 26,
      "outputs": [
        {
          "output_type": "stream",
          "name": "stdout",
          "text": [
            "Train Loss: 4.645 | Train Acc: 0.54% | Test Loss: 4.62 | Test Acc: 0.71%\n",
            "Train Loss: 4.615 | Train Acc: 2.27% | Test Loss: 4.6 | Test Acc: 0.98%\n",
            "Train Loss: 4.588 | Train Acc: 2.58% | Test Loss: 4.56 | Test Acc: 1.16%\n",
            "Train Loss: 4.492 | Train Acc: 3.36% | Test Loss: 4.39 | Test Acc: 0.80%\n",
            "Train Loss: 4.245 | Train Acc: 3.15% | Test Loss: 4.3 | Test Acc: 1.28%\n"
          ]
        }
      ]
    },
    {
      "cell_type": "code",
      "source": [
        "# Train Loss: 4.640 | Train Acc: 0.59% | Test Loss: 4.62 | Test Acc: 0.49%\n",
        "# Train Loss: 4.619 | Train Acc: 1.01% | Test Loss: 4.61 | Test Acc: 0.46%\n",
        "# Train Loss: 4.604 | Train Acc: 1.38% | Test Loss: 4.59 | Test Acc: 0.56%\n",
        "# Train Loss: 4.575 | Train Acc: 1.64% | Test Loss: 4.55 | Test Acc: 0.64%\n",
        "# Train Loss: 4.509 | Train Acc: 2.17% | Test Loss: 4.49 | Test Acc: 0.80%"
      ],
      "metadata": {
        "id": "e-VrVm1m9ug2"
      },
      "execution_count": null,
      "outputs": []
    }
  ]
}