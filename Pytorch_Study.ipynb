{
  "nbformat": 4,
  "nbformat_minor": 0,
  "metadata": {
    "colab": {
      "provenance": [],
      "gpuType": "T4",
      "generative_ai_disabled": true,
      "authorship_tag": "ABX9TyOVRpRsI7a6BUZChnxXHMM9",
      "include_colab_link": true
    },
    "kernelspec": {
      "name": "python3",
      "display_name": "Python 3"
    },
    "language_info": {
      "name": "python"
    },
    "accelerator": "GPU"
  },
  "cells": [
    {
      "cell_type": "markdown",
      "metadata": {
        "id": "view-in-github",
        "colab_type": "text"
      },
      "source": [
        "<a href=\"https://colab.research.google.com/github/brian-lear/study/blob/main/Pytorch_Study.ipynb\" target=\"_parent\"><img src=\"https://colab.research.google.com/assets/colab-badge.svg\" alt=\"Open In Colab\"/></a>"
      ]
    },
    {
      "cell_type": "code",
      "execution_count": 141,
      "metadata": {
        "id": "W1L9CBM2g43u"
      },
      "outputs": [],
      "source": [
        "# TODO\n",
        "# regression -- done\n",
        "# classifier single class -- done\n",
        "# classifier multi class -- done\n",
        "\n",
        "# image, with data augmentation\n",
        "# data wrangling with tensors\n",
        "## from numpy to tensor\n",
        "## formating to correct type\n",
        "## formatting to correct device\n",
        "## formatting to correct shape"
      ]
    },
    {
      "cell_type": "code",
      "source": [
        "# answers\n",
        "\n",
        "# data loader only if I need to run batches? -> for memory purpose. small tabular data does not need it. mostly for images, audio, text and videos"
      ],
      "metadata": {
        "id": "BRqmjQtNeTje"
      },
      "execution_count": 142,
      "outputs": []
    },
    {
      "cell_type": "code",
      "source": [
        "# ?\n",
        "# how to check device type for model, tensor\n",
        "# what other things to check with reg lin? activation function?\n",
        "# be able to explain kernel, stride, padding\n",
        "# explain why CNN -> ReLU -> MaxPool"
      ],
      "metadata": {
        "id": "PxW2rJz0qHk_"
      },
      "execution_count": 143,
      "outputs": []
    },
    {
      "cell_type": "markdown",
      "source": [
        "# Regression Model"
      ],
      "metadata": {
        "id": "-yGrJRikhk2O"
      }
    },
    {
      "cell_type": "code",
      "source": [
        "import torch\n",
        "from torch import nn"
      ],
      "metadata": {
        "id": "3LtiWhl4hmae"
      },
      "execution_count": 144,
      "outputs": []
    },
    {
      "cell_type": "code",
      "source": [
        "device = 'cuda' if torch.cuda.is_available() else 'cpu'\n",
        "device"
      ],
      "metadata": {
        "colab": {
          "base_uri": "https://localhost:8080/",
          "height": 35
        },
        "id": "bPu3InCup_8T",
        "outputId": "2c153d7b-2fa1-4425-916f-df76ce4bbee4"
      },
      "execution_count": 145,
      "outputs": [
        {
          "output_type": "execute_result",
          "data": {
            "text/plain": [
              "'cuda'"
            ],
            "application/vnd.google.colaboratory.intrinsic+json": {
              "type": "string"
            }
          },
          "metadata": {},
          "execution_count": 145
        }
      ]
    },
    {
      "cell_type": "code",
      "source": [
        "# Create weight and bias\n",
        "weight = 0.7\n",
        "bias = 0.3\n",
        "\n",
        "# Create range values\n",
        "start = 0\n",
        "end = 1\n",
        "step = 0.002\n",
        "\n",
        "# Create X and y (features and labels)\n",
        "X = torch.arange(start, end, step).unsqueeze(dim=1) # without unsqueeze, errors will happen later on (shapes within linear layers)\n",
        "y = weight * X + bias\n",
        "X[:10], y[:10]"
      ],
      "metadata": {
        "colab": {
          "base_uri": "https://localhost:8080/"
        },
        "id": "AY9udthqlV46",
        "outputId": "572cb790-4e8c-4b00-b66d-dfe2ae0cb8af"
      },
      "execution_count": 146,
      "outputs": [
        {
          "output_type": "execute_result",
          "data": {
            "text/plain": [
              "(tensor([[0.0000],\n",
              "         [0.0020],\n",
              "         [0.0040],\n",
              "         [0.0060],\n",
              "         [0.0080],\n",
              "         [0.0100],\n",
              "         [0.0120],\n",
              "         [0.0140],\n",
              "         [0.0160],\n",
              "         [0.0180]]),\n",
              " tensor([[0.3000],\n",
              "         [0.3014],\n",
              "         [0.3028],\n",
              "         [0.3042],\n",
              "         [0.3056],\n",
              "         [0.3070],\n",
              "         [0.3084],\n",
              "         [0.3098],\n",
              "         [0.3112],\n",
              "         [0.3126]]))"
            ]
          },
          "metadata": {},
          "execution_count": 146
        }
      ]
    },
    {
      "cell_type": "code",
      "source": [
        "# train test split\n",
        "\n",
        "train_size = 0.8\n",
        "n_samples = len(X)\n",
        "train_max_index = int(n_samples*train_size)\n",
        "\n",
        "X_train = X[:train_max_index]\n",
        "y_train = y[:train_max_index]\n",
        "\n",
        "X_test = X[train_max_index:]\n",
        "y_test = y[train_max_index:]\n",
        "\n",
        "len(X_train), len(y_train), len(X_test), len(y_test)"
      ],
      "metadata": {
        "colab": {
          "base_uri": "https://localhost:8080/"
        },
        "id": "5Fr6Ue6slqL1",
        "outputId": "e0b45145-3b14-44da-8233-2688e520d0f1"
      },
      "execution_count": 147,
      "outputs": [
        {
          "output_type": "execute_result",
          "data": {
            "text/plain": [
              "(400, 400, 100, 100)"
            ]
          },
          "metadata": {},
          "execution_count": 147
        }
      ]
    },
    {
      "cell_type": "code",
      "source": [
        "# model\n",
        "\n",
        "class RegressionModel(nn.Module):\n",
        "  def __init__(self, in_shape, hidden_units, out_shape):\n",
        "    super().__init__()\n",
        "\n",
        "    self.layers = nn.Sequential(\n",
        "        nn.Linear(in_features = in_shape, out_features=hidden_units),\n",
        "        nn.Linear(in_features = hidden_units, out_features=hidden_units),\n",
        "        nn.Linear(in_features = hidden_units, out_features=out_shape),\n",
        "    )\n",
        "\n",
        "  def forward(self, x):\n",
        "    return self.layers(x)\n",
        "\n",
        "reg_model = RegressionModel(in_shape = 1,\n",
        "                            hidden_units = 8,\n",
        "                            out_shape = 1).to(device)\n",
        "reg_model, reg_model.state_dict()"
      ],
      "metadata": {
        "colab": {
          "base_uri": "https://localhost:8080/"
        },
        "id": "ZvXJP0P8mqTD",
        "outputId": "dae0156d-c91c-4fd5-c05b-36dc724278fc"
      },
      "execution_count": 148,
      "outputs": [
        {
          "output_type": "execute_result",
          "data": {
            "text/plain": [
              "(RegressionModel(\n",
              "   (layers): Sequential(\n",
              "     (0): Linear(in_features=1, out_features=8, bias=True)\n",
              "     (1): Linear(in_features=8, out_features=8, bias=True)\n",
              "     (2): Linear(in_features=8, out_features=1, bias=True)\n",
              "   )\n",
              " ),\n",
              " OrderedDict([('layers.0.weight',\n",
              "               tensor([[-0.0332],\n",
              "                       [-0.7452],\n",
              "                       [-0.9476],\n",
              "                       [ 0.2356],\n",
              "                       [ 0.7045],\n",
              "                       [-0.6210],\n",
              "                       [-0.6665],\n",
              "                       [-0.3817]], device='cuda:0')),\n",
              "              ('layers.0.bias',\n",
              "               tensor([ 0.5474,  0.4016, -0.8886,  0.6645,  0.2654,  0.3339,  0.1311,  0.4539],\n",
              "                      device='cuda:0')),\n",
              "              ('layers.1.weight',\n",
              "               tensor([[ 0.2088,  0.0564,  0.2244,  0.1204,  0.1907, -0.1149,  0.1917,  0.2668],\n",
              "                       [ 0.1809, -0.2128,  0.0316, -0.1570,  0.2389, -0.1628,  0.3145,  0.0458],\n",
              "                       [ 0.2258, -0.0486,  0.0822,  0.2848, -0.1695,  0.1599,  0.0713,  0.1829],\n",
              "                       [-0.2401,  0.1290, -0.0673, -0.0507,  0.1418,  0.1524,  0.2625,  0.1277],\n",
              "                       [ 0.1386,  0.1322,  0.0184, -0.2098,  0.2211, -0.2989, -0.3211,  0.2026],\n",
              "                       [ 0.0597, -0.1596, -0.0505,  0.1269, -0.2398, -0.2109, -0.1046,  0.0062],\n",
              "                       [-0.2579, -0.3101, -0.2393,  0.3130, -0.3463, -0.3245,  0.1625, -0.1683],\n",
              "                       [ 0.1846, -0.2217,  0.1529, -0.3221,  0.1630,  0.2335,  0.2399, -0.0342]],\n",
              "                      device='cuda:0')),\n",
              "              ('layers.1.bias',\n",
              "               tensor([ 0.0374, -0.1783, -0.0430,  0.1096,  0.0684, -0.2902,  0.2124,  0.2495],\n",
              "                      device='cuda:0')),\n",
              "              ('layers.2.weight',\n",
              "               tensor([[ 0.2652, -0.1931,  0.0512,  0.0417,  0.0585,  0.2245,  0.2281,  0.0464]],\n",
              "                      device='cuda:0')),\n",
              "              ('layers.2.bias', tensor([-0.0379], device='cuda:0'))]))"
            ]
          },
          "metadata": {},
          "execution_count": 148
        }
      ]
    },
    {
      "cell_type": "code",
      "source": [
        "loss_fn = nn.L1Loss()\n",
        "optimizer = torch.optim.SGD(reg_model.parameters(), lr=0.1)"
      ],
      "metadata": {
        "id": "OVZmzzxIpGn2"
      },
      "execution_count": 149,
      "outputs": []
    },
    {
      "cell_type": "code",
      "source": [
        "torch.manual_seed(601)\n",
        "torch.cuda.manual_seed(601)\n",
        "\n",
        "epochs = 1000\n",
        "train_loss_list = []\n",
        "test_loss_list = []\n",
        "\n",
        "X_train, y_train = X_train.to(device), y_train.to(device)\n",
        "X_test, y_test = X_test.to(device), y_test.to(device)\n",
        "\n",
        "for epoch in range(epochs):\n",
        "\n",
        "  reg_model.train()\n",
        "\n",
        "  preds = reg_model(X_train)\n",
        "\n",
        "  loss = loss_fn(preds,y_train)\n",
        "\n",
        "  optimizer.zero_grad()\n",
        "  loss.backward()\n",
        "  optimizer.step()\n",
        "\n",
        "  reg_model.eval()\n",
        "  with torch.inference_mode():\n",
        "\n",
        "    preds = reg_model(X_test)\n",
        "    test_loss = loss_fn(preds,y_test)\n",
        "\n",
        "  if epoch % 100 == 0:\n",
        "    print(f'Epoch: {epoch}, Train Loss: {loss}, Test Loss: {test_loss}')\n"
      ],
      "metadata": {
        "colab": {
          "base_uri": "https://localhost:8080/"
        },
        "id": "H5nkQFnPp7TU",
        "outputId": "bdc4c333-1704-42f1-cb4c-bdad3aa73720"
      },
      "execution_count": 150,
      "outputs": [
        {
          "output_type": "stream",
          "name": "stdout",
          "text": [
            "Epoch: 0, Train Loss: 0.5214242935180664, Test Loss: 0.6090110540390015\n",
            "Epoch: 100, Train Loss: 0.1110914796590805, Test Loss: 0.017115430906414986\n",
            "Epoch: 200, Train Loss: 0.058582935482263565, Test Loss: 0.014295924454927444\n",
            "Epoch: 300, Train Loss: 0.06813984364271164, Test Loss: 0.009567316621541977\n",
            "Epoch: 400, Train Loss: 0.06203325092792511, Test Loss: 0.010136101394891739\n",
            "Epoch: 500, Train Loss: 0.05053359270095825, Test Loss: 0.01908722333610058\n",
            "Epoch: 600, Train Loss: 0.05289049819111824, Test Loss: 0.01582731120288372\n",
            "Epoch: 700, Train Loss: 0.05753183737397194, Test Loss: 0.006720205303281546\n",
            "Epoch: 800, Train Loss: 0.0529637336730957, Test Loss: 0.006690515670925379\n",
            "Epoch: 900, Train Loss: 0.06404364109039307, Test Loss: 0.020400667563080788\n"
          ]
        }
      ]
    },
    {
      "cell_type": "code",
      "source": [
        "next(reg_model.parameters()).device"
      ],
      "metadata": {
        "colab": {
          "base_uri": "https://localhost:8080/"
        },
        "id": "hjebEtols6YI",
        "outputId": "3c544f94-b863-48ba-fad3-96c04c4cbe57"
      },
      "execution_count": 151,
      "outputs": [
        {
          "output_type": "execute_result",
          "data": {
            "text/plain": [
              "device(type='cuda', index=0)"
            ]
          },
          "metadata": {},
          "execution_count": 151
        }
      ]
    },
    {
      "cell_type": "code",
      "source": [
        "reg_model.eval()\n",
        "\n",
        "with torch.inference_mode():\n",
        "  preds = reg_model(X_test)\n",
        "\n",
        "preds[:10], y_test[:10]"
      ],
      "metadata": {
        "colab": {
          "base_uri": "https://localhost:8080/"
        },
        "id": "BDB9XQhPso72",
        "outputId": "98e11e38-43ee-4c60-a4ec-4936b00cae91"
      },
      "execution_count": 152,
      "outputs": [
        {
          "output_type": "execute_result",
          "data": {
            "text/plain": [
              "(tensor([[0.7437],\n",
              "         [0.7448],\n",
              "         [0.7460],\n",
              "         [0.7472],\n",
              "         [0.7483],\n",
              "         [0.7495],\n",
              "         [0.7507],\n",
              "         [0.7518],\n",
              "         [0.7530],\n",
              "         [0.7542]], device='cuda:0'),\n",
              " tensor([[0.8600],\n",
              "         [0.8614],\n",
              "         [0.8628],\n",
              "         [0.8642],\n",
              "         [0.8656],\n",
              "         [0.8670],\n",
              "         [0.8684],\n",
              "         [0.8698],\n",
              "         [0.8712],\n",
              "         [0.8726]], device='cuda:0'))"
            ]
          },
          "metadata": {},
          "execution_count": 152
        }
      ]
    },
    {
      "cell_type": "code",
      "source": [
        "# save model\n",
        "\n",
        "from pathlib import Path\n",
        "\n",
        "MODEL_PATH = Path('models')\n",
        "MODEL_PATH.mkdir(parents=True, exist_ok= True)\n",
        "\n",
        "MODEL_NAME = 'regmodel.pth'\n",
        "MODEL_SAVE_PATH = MODEL_PATH / MODEL_NAME\n",
        "\n",
        "torch.save(obj=reg_model.state_dict(), f=MODEL_SAVE_PATH)"
      ],
      "metadata": {
        "id": "WfOtMX7-t21d"
      },
      "execution_count": 153,
      "outputs": []
    },
    {
      "cell_type": "code",
      "source": [
        "# load model\n",
        "\n",
        "loaded_model = RegressionModel(in_shape = 1,\n",
        "                            hidden_units = 8,\n",
        "                            out_shape = 1).to(device)\n",
        "loaded_model.load_state_dict(torch.load(MODEL_SAVE_PATH))\n",
        "loaded_model.to(device)\n",
        "loaded_model"
      ],
      "metadata": {
        "colab": {
          "base_uri": "https://localhost:8080/"
        },
        "id": "iFdSFbuXuVlW",
        "outputId": "4f4a736d-47d5-47a0-a08f-1a06e6ec1d0f"
      },
      "execution_count": 154,
      "outputs": [
        {
          "output_type": "execute_result",
          "data": {
            "text/plain": [
              "RegressionModel(\n",
              "  (layers): Sequential(\n",
              "    (0): Linear(in_features=1, out_features=8, bias=True)\n",
              "    (1): Linear(in_features=8, out_features=8, bias=True)\n",
              "    (2): Linear(in_features=8, out_features=1, bias=True)\n",
              "  )\n",
              ")"
            ]
          },
          "metadata": {},
          "execution_count": 154
        }
      ]
    },
    {
      "cell_type": "code",
      "source": [
        "loaded_model.eval()\n",
        "with torch.inference_mode():\n",
        "  loaded_model_preds = loaded_model(X_test)\n",
        "preds[:10] == loaded_model_preds[:10]"
      ],
      "metadata": {
        "colab": {
          "base_uri": "https://localhost:8080/"
        },
        "id": "vjSbY7Fzuvfd",
        "outputId": "64a0ea0a-ed4f-47a2-e6a4-74c0813a5137"
      },
      "execution_count": 155,
      "outputs": [
        {
          "output_type": "execute_result",
          "data": {
            "text/plain": [
              "tensor([[True],\n",
              "        [True],\n",
              "        [True],\n",
              "        [True],\n",
              "        [True],\n",
              "        [True],\n",
              "        [True],\n",
              "        [True],\n",
              "        [True],\n",
              "        [True]], device='cuda:0')"
            ]
          },
          "metadata": {},
          "execution_count": 155
        }
      ]
    },
    {
      "cell_type": "markdown",
      "source": [
        "# Classification Model - Single Class"
      ],
      "metadata": {
        "id": "S-5g6aqAvScR"
      }
    },
    {
      "cell_type": "code",
      "source": [
        "import torch\n",
        "from torch import nn"
      ],
      "metadata": {
        "id": "RuJJ2G9PvUDw"
      },
      "execution_count": 156,
      "outputs": []
    },
    {
      "cell_type": "code",
      "source": [
        "device = 'cuda' if torch.cuda.is_available() else 'cpu'\n",
        "device"
      ],
      "metadata": {
        "colab": {
          "base_uri": "https://localhost:8080/",
          "height": 35
        },
        "id": "wzvWAqnFy2yz",
        "outputId": "d305a306-4b02-49a3-af15-a6532598a7ac"
      },
      "execution_count": 157,
      "outputs": [
        {
          "output_type": "execute_result",
          "data": {
            "text/plain": [
              "'cuda'"
            ],
            "application/vnd.google.colaboratory.intrinsic+json": {
              "type": "string"
            }
          },
          "metadata": {},
          "execution_count": 157
        }
      ]
    },
    {
      "cell_type": "code",
      "source": [
        "from sklearn.datasets import make_circles\n",
        "import pandas as pd\n",
        "\n",
        "# Make 1000 samples\n",
        "n_samples = 1000\n",
        "\n",
        "# Create circles\n",
        "X, y = make_circles(n_samples,\n",
        "                    noise=0.03, # a little bit of noise to the dots\n",
        "                    random_state=42)\n",
        "\n",
        "# Make DataFrame of circle data\n",
        "circles = pd.DataFrame({\"X1\": X[:, 0],\n",
        "    \"X2\": X[:, 1],\n",
        "    \"label\": y\n",
        "})\n",
        "circles.head(10)"
      ],
      "metadata": {
        "colab": {
          "base_uri": "https://localhost:8080/",
          "height": 363
        },
        "id": "hsAt86b1vZSa",
        "outputId": "9efddae5-171c-43de-f421-bb75ce3703f1"
      },
      "execution_count": 158,
      "outputs": [
        {
          "output_type": "execute_result",
          "data": {
            "text/plain": [
              "         X1        X2  label\n",
              "0  0.754246  0.231481      1\n",
              "1 -0.756159  0.153259      1\n",
              "2 -0.815392  0.173282      1\n",
              "3 -0.393731  0.692883      1\n",
              "4  0.442208 -0.896723      0\n",
              "5 -0.479646  0.676435      1\n",
              "6 -0.013648  0.803349      1\n",
              "7  0.771513  0.147760      1\n",
              "8 -0.169322 -0.793456      1\n",
              "9 -0.121486  1.021509      0"
            ],
            "text/html": [
              "\n",
              "  <div id=\"df-848cb977-65cb-4d8f-91c7-dfb9ab38205a\" class=\"colab-df-container\">\n",
              "    <div>\n",
              "<style scoped>\n",
              "    .dataframe tbody tr th:only-of-type {\n",
              "        vertical-align: middle;\n",
              "    }\n",
              "\n",
              "    .dataframe tbody tr th {\n",
              "        vertical-align: top;\n",
              "    }\n",
              "\n",
              "    .dataframe thead th {\n",
              "        text-align: right;\n",
              "    }\n",
              "</style>\n",
              "<table border=\"1\" class=\"dataframe\">\n",
              "  <thead>\n",
              "    <tr style=\"text-align: right;\">\n",
              "      <th></th>\n",
              "      <th>X1</th>\n",
              "      <th>X2</th>\n",
              "      <th>label</th>\n",
              "    </tr>\n",
              "  </thead>\n",
              "  <tbody>\n",
              "    <tr>\n",
              "      <th>0</th>\n",
              "      <td>0.754246</td>\n",
              "      <td>0.231481</td>\n",
              "      <td>1</td>\n",
              "    </tr>\n",
              "    <tr>\n",
              "      <th>1</th>\n",
              "      <td>-0.756159</td>\n",
              "      <td>0.153259</td>\n",
              "      <td>1</td>\n",
              "    </tr>\n",
              "    <tr>\n",
              "      <th>2</th>\n",
              "      <td>-0.815392</td>\n",
              "      <td>0.173282</td>\n",
              "      <td>1</td>\n",
              "    </tr>\n",
              "    <tr>\n",
              "      <th>3</th>\n",
              "      <td>-0.393731</td>\n",
              "      <td>0.692883</td>\n",
              "      <td>1</td>\n",
              "    </tr>\n",
              "    <tr>\n",
              "      <th>4</th>\n",
              "      <td>0.442208</td>\n",
              "      <td>-0.896723</td>\n",
              "      <td>0</td>\n",
              "    </tr>\n",
              "    <tr>\n",
              "      <th>5</th>\n",
              "      <td>-0.479646</td>\n",
              "      <td>0.676435</td>\n",
              "      <td>1</td>\n",
              "    </tr>\n",
              "    <tr>\n",
              "      <th>6</th>\n",
              "      <td>-0.013648</td>\n",
              "      <td>0.803349</td>\n",
              "      <td>1</td>\n",
              "    </tr>\n",
              "    <tr>\n",
              "      <th>7</th>\n",
              "      <td>0.771513</td>\n",
              "      <td>0.147760</td>\n",
              "      <td>1</td>\n",
              "    </tr>\n",
              "    <tr>\n",
              "      <th>8</th>\n",
              "      <td>-0.169322</td>\n",
              "      <td>-0.793456</td>\n",
              "      <td>1</td>\n",
              "    </tr>\n",
              "    <tr>\n",
              "      <th>9</th>\n",
              "      <td>-0.121486</td>\n",
              "      <td>1.021509</td>\n",
              "      <td>0</td>\n",
              "    </tr>\n",
              "  </tbody>\n",
              "</table>\n",
              "</div>\n",
              "    <div class=\"colab-df-buttons\">\n",
              "\n",
              "  <div class=\"colab-df-container\">\n",
              "    <button class=\"colab-df-convert\" onclick=\"convertToInteractive('df-848cb977-65cb-4d8f-91c7-dfb9ab38205a')\"\n",
              "            title=\"Convert this dataframe to an interactive table.\"\n",
              "            style=\"display:none;\">\n",
              "\n",
              "  <svg xmlns=\"http://www.w3.org/2000/svg\" height=\"24px\" viewBox=\"0 -960 960 960\">\n",
              "    <path d=\"M120-120v-720h720v720H120Zm60-500h600v-160H180v160Zm220 220h160v-160H400v160Zm0 220h160v-160H400v160ZM180-400h160v-160H180v160Zm440 0h160v-160H620v160ZM180-180h160v-160H180v160Zm440 0h160v-160H620v160Z\"/>\n",
              "  </svg>\n",
              "    </button>\n",
              "\n",
              "  <style>\n",
              "    .colab-df-container {\n",
              "      display:flex;\n",
              "      gap: 12px;\n",
              "    }\n",
              "\n",
              "    .colab-df-convert {\n",
              "      background-color: #E8F0FE;\n",
              "      border: none;\n",
              "      border-radius: 50%;\n",
              "      cursor: pointer;\n",
              "      display: none;\n",
              "      fill: #1967D2;\n",
              "      height: 32px;\n",
              "      padding: 0 0 0 0;\n",
              "      width: 32px;\n",
              "    }\n",
              "\n",
              "    .colab-df-convert:hover {\n",
              "      background-color: #E2EBFA;\n",
              "      box-shadow: 0px 1px 2px rgba(60, 64, 67, 0.3), 0px 1px 3px 1px rgba(60, 64, 67, 0.15);\n",
              "      fill: #174EA6;\n",
              "    }\n",
              "\n",
              "    .colab-df-buttons div {\n",
              "      margin-bottom: 4px;\n",
              "    }\n",
              "\n",
              "    [theme=dark] .colab-df-convert {\n",
              "      background-color: #3B4455;\n",
              "      fill: #D2E3FC;\n",
              "    }\n",
              "\n",
              "    [theme=dark] .colab-df-convert:hover {\n",
              "      background-color: #434B5C;\n",
              "      box-shadow: 0px 1px 3px 1px rgba(0, 0, 0, 0.15);\n",
              "      filter: drop-shadow(0px 1px 2px rgba(0, 0, 0, 0.3));\n",
              "      fill: #FFFFFF;\n",
              "    }\n",
              "  </style>\n",
              "\n",
              "    <script>\n",
              "      const buttonEl =\n",
              "        document.querySelector('#df-848cb977-65cb-4d8f-91c7-dfb9ab38205a button.colab-df-convert');\n",
              "      buttonEl.style.display =\n",
              "        google.colab.kernel.accessAllowed ? 'block' : 'none';\n",
              "\n",
              "      async function convertToInteractive(key) {\n",
              "        const element = document.querySelector('#df-848cb977-65cb-4d8f-91c7-dfb9ab38205a');\n",
              "        const dataTable =\n",
              "          await google.colab.kernel.invokeFunction('convertToInteractive',\n",
              "                                                    [key], {});\n",
              "        if (!dataTable) return;\n",
              "\n",
              "        const docLinkHtml = 'Like what you see? Visit the ' +\n",
              "          '<a target=\"_blank\" href=https://colab.research.google.com/notebooks/data_table.ipynb>data table notebook</a>'\n",
              "          + ' to learn more about interactive tables.';\n",
              "        element.innerHTML = '';\n",
              "        dataTable['output_type'] = 'display_data';\n",
              "        await google.colab.output.renderOutput(dataTable, element);\n",
              "        const docLink = document.createElement('div');\n",
              "        docLink.innerHTML = docLinkHtml;\n",
              "        element.appendChild(docLink);\n",
              "      }\n",
              "    </script>\n",
              "  </div>\n",
              "\n",
              "\n",
              "    <div id=\"df-26828785-c1a9-4eb1-970f-78dafc21f605\">\n",
              "      <button class=\"colab-df-quickchart\" onclick=\"quickchart('df-26828785-c1a9-4eb1-970f-78dafc21f605')\"\n",
              "                title=\"Suggest charts\"\n",
              "                style=\"display:none;\">\n",
              "\n",
              "<svg xmlns=\"http://www.w3.org/2000/svg\" height=\"24px\"viewBox=\"0 0 24 24\"\n",
              "     width=\"24px\">\n",
              "    <g>\n",
              "        <path d=\"M19 3H5c-1.1 0-2 .9-2 2v14c0 1.1.9 2 2 2h14c1.1 0 2-.9 2-2V5c0-1.1-.9-2-2-2zM9 17H7v-7h2v7zm4 0h-2V7h2v10zm4 0h-2v-4h2v4z\"/>\n",
              "    </g>\n",
              "</svg>\n",
              "      </button>\n",
              "\n",
              "<style>\n",
              "  .colab-df-quickchart {\n",
              "      --bg-color: #E8F0FE;\n",
              "      --fill-color: #1967D2;\n",
              "      --hover-bg-color: #E2EBFA;\n",
              "      --hover-fill-color: #174EA6;\n",
              "      --disabled-fill-color: #AAA;\n",
              "      --disabled-bg-color: #DDD;\n",
              "  }\n",
              "\n",
              "  [theme=dark] .colab-df-quickchart {\n",
              "      --bg-color: #3B4455;\n",
              "      --fill-color: #D2E3FC;\n",
              "      --hover-bg-color: #434B5C;\n",
              "      --hover-fill-color: #FFFFFF;\n",
              "      --disabled-bg-color: #3B4455;\n",
              "      --disabled-fill-color: #666;\n",
              "  }\n",
              "\n",
              "  .colab-df-quickchart {\n",
              "    background-color: var(--bg-color);\n",
              "    border: none;\n",
              "    border-radius: 50%;\n",
              "    cursor: pointer;\n",
              "    display: none;\n",
              "    fill: var(--fill-color);\n",
              "    height: 32px;\n",
              "    padding: 0;\n",
              "    width: 32px;\n",
              "  }\n",
              "\n",
              "  .colab-df-quickchart:hover {\n",
              "    background-color: var(--hover-bg-color);\n",
              "    box-shadow: 0 1px 2px rgba(60, 64, 67, 0.3), 0 1px 3px 1px rgba(60, 64, 67, 0.15);\n",
              "    fill: var(--button-hover-fill-color);\n",
              "  }\n",
              "\n",
              "  .colab-df-quickchart-complete:disabled,\n",
              "  .colab-df-quickchart-complete:disabled:hover {\n",
              "    background-color: var(--disabled-bg-color);\n",
              "    fill: var(--disabled-fill-color);\n",
              "    box-shadow: none;\n",
              "  }\n",
              "\n",
              "  .colab-df-spinner {\n",
              "    border: 2px solid var(--fill-color);\n",
              "    border-color: transparent;\n",
              "    border-bottom-color: var(--fill-color);\n",
              "    animation:\n",
              "      spin 1s steps(1) infinite;\n",
              "  }\n",
              "\n",
              "  @keyframes spin {\n",
              "    0% {\n",
              "      border-color: transparent;\n",
              "      border-bottom-color: var(--fill-color);\n",
              "      border-left-color: var(--fill-color);\n",
              "    }\n",
              "    20% {\n",
              "      border-color: transparent;\n",
              "      border-left-color: var(--fill-color);\n",
              "      border-top-color: var(--fill-color);\n",
              "    }\n",
              "    30% {\n",
              "      border-color: transparent;\n",
              "      border-left-color: var(--fill-color);\n",
              "      border-top-color: var(--fill-color);\n",
              "      border-right-color: var(--fill-color);\n",
              "    }\n",
              "    40% {\n",
              "      border-color: transparent;\n",
              "      border-right-color: var(--fill-color);\n",
              "      border-top-color: var(--fill-color);\n",
              "    }\n",
              "    60% {\n",
              "      border-color: transparent;\n",
              "      border-right-color: var(--fill-color);\n",
              "    }\n",
              "    80% {\n",
              "      border-color: transparent;\n",
              "      border-right-color: var(--fill-color);\n",
              "      border-bottom-color: var(--fill-color);\n",
              "    }\n",
              "    90% {\n",
              "      border-color: transparent;\n",
              "      border-bottom-color: var(--fill-color);\n",
              "    }\n",
              "  }\n",
              "</style>\n",
              "\n",
              "      <script>\n",
              "        async function quickchart(key) {\n",
              "          const quickchartButtonEl =\n",
              "            document.querySelector('#' + key + ' button');\n",
              "          quickchartButtonEl.disabled = true;  // To prevent multiple clicks.\n",
              "          quickchartButtonEl.classList.add('colab-df-spinner');\n",
              "          try {\n",
              "            const charts = await google.colab.kernel.invokeFunction(\n",
              "                'suggestCharts', [key], {});\n",
              "          } catch (error) {\n",
              "            console.error('Error during call to suggestCharts:', error);\n",
              "          }\n",
              "          quickchartButtonEl.classList.remove('colab-df-spinner');\n",
              "          quickchartButtonEl.classList.add('colab-df-quickchart-complete');\n",
              "        }\n",
              "        (() => {\n",
              "          let quickchartButtonEl =\n",
              "            document.querySelector('#df-26828785-c1a9-4eb1-970f-78dafc21f605 button');\n",
              "          quickchartButtonEl.style.display =\n",
              "            google.colab.kernel.accessAllowed ? 'block' : 'none';\n",
              "        })();\n",
              "      </script>\n",
              "    </div>\n",
              "\n",
              "    </div>\n",
              "  </div>\n"
            ],
            "application/vnd.google.colaboratory.intrinsic+json": {
              "type": "dataframe",
              "variable_name": "circles",
              "summary": "{\n  \"name\": \"circles\",\n  \"rows\": 1000,\n  \"fields\": [\n    {\n      \"column\": \"X1\",\n      \"properties\": {\n        \"dtype\": \"number\",\n        \"std\": 0.6398365674574611,\n        \"min\": -1.0595024599098635,\n        \"max\": 1.0337117525463373,\n        \"num_unique_values\": 1000,\n        \"samples\": [\n          -0.3751930206933384,\n          0.015380346701456493,\n          -0.7027835978832848\n        ],\n        \"semantic_type\": \"\",\n        \"description\": \"\"\n      }\n    },\n    {\n      \"column\": \"X2\",\n      \"properties\": {\n        \"dtype\": \"number\",\n        \"std\": 0.6411559581015379,\n        \"min\": -1.0677683182718436,\n        \"max\": 1.0360036756154805,\n        \"num_unique_values\": 1000,\n        \"samples\": [\n          0.6826597225888621,\n          0.9600260220697324,\n          -0.3147169925147762\n        ],\n        \"semantic_type\": \"\",\n        \"description\": \"\"\n      }\n    },\n    {\n      \"column\": \"label\",\n      \"properties\": {\n        \"dtype\": \"number\",\n        \"std\": 0,\n        \"min\": 0,\n        \"max\": 1,\n        \"num_unique_values\": 2,\n        \"samples\": [\n          0,\n          1\n        ],\n        \"semantic_type\": \"\",\n        \"description\": \"\"\n      }\n    }\n  ]\n}"
            }
          },
          "metadata": {},
          "execution_count": 158
        }
      ]
    },
    {
      "cell_type": "code",
      "source": [
        "X = torch.from_numpy(X).type(torch.float)\n",
        "y = torch.from_numpy(y).type(torch.float)\n",
        "X.shape, y.shape"
      ],
      "metadata": {
        "colab": {
          "base_uri": "https://localhost:8080/"
        },
        "id": "5tvZEx9SxI1R",
        "outputId": "1780496f-d29c-4c52-aac1-a428ff493c99"
      },
      "execution_count": 159,
      "outputs": [
        {
          "output_type": "execute_result",
          "data": {
            "text/plain": [
              "(torch.Size([1000, 2]), torch.Size([1000]))"
            ]
          },
          "metadata": {},
          "execution_count": 159
        }
      ]
    },
    {
      "cell_type": "code",
      "source": [
        "from sklearn.model_selection import train_test_split\n",
        "\n",
        "X_train, X_test, y_train, y_test = train_test_split(X,y, train_size = 0.8, random_state = 601)\n",
        "\n",
        "len(X_train), len(X_test), len(y_train), len(y_test)"
      ],
      "metadata": {
        "colab": {
          "base_uri": "https://localhost:8080/"
        },
        "id": "apOtad9Xxwlg",
        "outputId": "a29c5eca-e448-45f6-b599-53d80a698628"
      },
      "execution_count": 160,
      "outputs": [
        {
          "output_type": "execute_result",
          "data": {
            "text/plain": [
              "(800, 200, 800, 200)"
            ]
          },
          "metadata": {},
          "execution_count": 160
        }
      ]
    },
    {
      "cell_type": "code",
      "source": [
        "class SingleClassifierModel(nn.Module):\n",
        "  def __init__(self, in_shape, hidden_units, out_shape):\n",
        "    super().__init__()\n",
        "\n",
        "    self.layers = nn.Sequential(\n",
        "        nn.Linear(in_features=in_shape, out_features=hidden_units),\n",
        "        nn.ReLU(),\n",
        "        nn.Linear(in_features=hidden_units, out_features=hidden_units),\n",
        "        nn.ReLU(),\n",
        "        nn.Linear(in_features=hidden_units, out_features=out_shape),\n",
        "    )\n",
        "\n",
        "  def forward(self,x):\n",
        "    return self.layers(x)\n",
        "\n",
        "class_model = SingleClassifierModel(in_shape=2, hidden_units=10, out_shape=1).to(device)\n",
        "class_model"
      ],
      "metadata": {
        "colab": {
          "base_uri": "https://localhost:8080/"
        },
        "id": "gWDU2JDtyAy3",
        "outputId": "cded750e-b7e8-45bb-8d6e-68942ca4df04"
      },
      "execution_count": 161,
      "outputs": [
        {
          "output_type": "execute_result",
          "data": {
            "text/plain": [
              "SingleClassifierModel(\n",
              "  (layers): Sequential(\n",
              "    (0): Linear(in_features=2, out_features=10, bias=True)\n",
              "    (1): ReLU()\n",
              "    (2): Linear(in_features=10, out_features=10, bias=True)\n",
              "    (3): ReLU()\n",
              "    (4): Linear(in_features=10, out_features=1, bias=True)\n",
              "  )\n",
              ")"
            ]
          },
          "metadata": {},
          "execution_count": 161
        }
      ]
    },
    {
      "cell_type": "code",
      "source": [
        "loss_fn = nn.BCEWithLogitsLoss()\n",
        "optimizer = torch.optim.SGD(class_model.parameters(), lr=0.1)"
      ],
      "metadata": {
        "id": "FyGo1AinzqJ0"
      },
      "execution_count": 162,
      "outputs": []
    },
    {
      "cell_type": "code",
      "source": [
        "try:\n",
        "  from torchmetrics.classification import BinaryAccuracy\n",
        "except:\n",
        "  !pip install torchmetrics\n",
        "  from torchmetrics.classification import BinaryAccuracy\n"
      ],
      "metadata": {
        "colab": {
          "base_uri": "https://localhost:8080/"
        },
        "id": "niNXAdCs08aW",
        "outputId": "1198f1be-4c16-4583-d41e-522155e6cf0e"
      },
      "execution_count": 163,
      "outputs": [
        {
          "output_type": "stream",
          "name": "stdout",
          "text": [
            "Requirement already satisfied: torchmetrics in /usr/local/lib/python3.12/dist-packages (1.8.1)\n",
            "Requirement already satisfied: numpy>1.20.0 in /usr/local/lib/python3.12/dist-packages (from torchmetrics) (2.0.2)\n",
            "Requirement already satisfied: packaging>17.1 in /usr/local/lib/python3.12/dist-packages (from torchmetrics) (25.0)\n",
            "Requirement already satisfied: torch>=2.0.0 in /usr/local/lib/python3.12/dist-packages (from torchmetrics) (2.8.0+cu126)\n",
            "Requirement already satisfied: lightning-utilities>=0.8.0 in /usr/local/lib/python3.12/dist-packages (from torchmetrics) (0.15.2)\n",
            "Requirement already satisfied: setuptools in /usr/local/lib/python3.12/dist-packages (from lightning-utilities>=0.8.0->torchmetrics) (75.2.0)\n",
            "Requirement already satisfied: typing_extensions in /usr/local/lib/python3.12/dist-packages (from lightning-utilities>=0.8.0->torchmetrics) (4.14.1)\n",
            "Requirement already satisfied: filelock in /usr/local/lib/python3.12/dist-packages (from torch>=2.0.0->torchmetrics) (3.19.1)\n",
            "Requirement already satisfied: sympy>=1.13.3 in /usr/local/lib/python3.12/dist-packages (from torch>=2.0.0->torchmetrics) (1.13.3)\n",
            "Requirement already satisfied: networkx in /usr/local/lib/python3.12/dist-packages (from torch>=2.0.0->torchmetrics) (3.5)\n",
            "Requirement already satisfied: jinja2 in /usr/local/lib/python3.12/dist-packages (from torch>=2.0.0->torchmetrics) (3.1.6)\n",
            "Requirement already satisfied: fsspec in /usr/local/lib/python3.12/dist-packages (from torch>=2.0.0->torchmetrics) (2025.3.0)\n",
            "Requirement already satisfied: nvidia-cuda-nvrtc-cu12==12.6.77 in /usr/local/lib/python3.12/dist-packages (from torch>=2.0.0->torchmetrics) (12.6.77)\n",
            "Requirement already satisfied: nvidia-cuda-runtime-cu12==12.6.77 in /usr/local/lib/python3.12/dist-packages (from torch>=2.0.0->torchmetrics) (12.6.77)\n",
            "Requirement already satisfied: nvidia-cuda-cupti-cu12==12.6.80 in /usr/local/lib/python3.12/dist-packages (from torch>=2.0.0->torchmetrics) (12.6.80)\n",
            "Requirement already satisfied: nvidia-cudnn-cu12==9.10.2.21 in /usr/local/lib/python3.12/dist-packages (from torch>=2.0.0->torchmetrics) (9.10.2.21)\n",
            "Requirement already satisfied: nvidia-cublas-cu12==12.6.4.1 in /usr/local/lib/python3.12/dist-packages (from torch>=2.0.0->torchmetrics) (12.6.4.1)\n",
            "Requirement already satisfied: nvidia-cufft-cu12==11.3.0.4 in /usr/local/lib/python3.12/dist-packages (from torch>=2.0.0->torchmetrics) (11.3.0.4)\n",
            "Requirement already satisfied: nvidia-curand-cu12==10.3.7.77 in /usr/local/lib/python3.12/dist-packages (from torch>=2.0.0->torchmetrics) (10.3.7.77)\n",
            "Requirement already satisfied: nvidia-cusolver-cu12==11.7.1.2 in /usr/local/lib/python3.12/dist-packages (from torch>=2.0.0->torchmetrics) (11.7.1.2)\n",
            "Requirement already satisfied: nvidia-cusparse-cu12==12.5.4.2 in /usr/local/lib/python3.12/dist-packages (from torch>=2.0.0->torchmetrics) (12.5.4.2)\n",
            "Requirement already satisfied: nvidia-cusparselt-cu12==0.7.1 in /usr/local/lib/python3.12/dist-packages (from torch>=2.0.0->torchmetrics) (0.7.1)\n",
            "Requirement already satisfied: nvidia-nccl-cu12==2.27.3 in /usr/local/lib/python3.12/dist-packages (from torch>=2.0.0->torchmetrics) (2.27.3)\n",
            "Requirement already satisfied: nvidia-nvtx-cu12==12.6.77 in /usr/local/lib/python3.12/dist-packages (from torch>=2.0.0->torchmetrics) (12.6.77)\n",
            "Requirement already satisfied: nvidia-nvjitlink-cu12==12.6.85 in /usr/local/lib/python3.12/dist-packages (from torch>=2.0.0->torchmetrics) (12.6.85)\n",
            "Requirement already satisfied: nvidia-cufile-cu12==1.11.1.6 in /usr/local/lib/python3.12/dist-packages (from torch>=2.0.0->torchmetrics) (1.11.1.6)\n",
            "Requirement already satisfied: triton==3.4.0 in /usr/local/lib/python3.12/dist-packages (from torch>=2.0.0->torchmetrics) (3.4.0)\n",
            "Requirement already satisfied: mpmath<1.4,>=1.1.0 in /usr/local/lib/python3.12/dist-packages (from sympy>=1.13.3->torch>=2.0.0->torchmetrics) (1.3.0)\n",
            "Requirement already satisfied: MarkupSafe>=2.0 in /usr/local/lib/python3.12/dist-packages (from jinja2->torch>=2.0.0->torchmetrics) (3.0.2)\n"
          ]
        }
      ]
    },
    {
      "cell_type": "code",
      "source": [
        "acc_fn = BinaryAccuracy().to(device)"
      ],
      "metadata": {
        "id": "Gt0lkNZw060X"
      },
      "execution_count": 164,
      "outputs": []
    },
    {
      "cell_type": "code",
      "source": [
        "torch.cuda.manual_seed(601)\n",
        "torch.manual_seed(601)\n",
        "\n",
        "epochs = 1000\n",
        "\n",
        "X_train, y_train = X_train.to(device), y_train.to(device)\n",
        "X_test, y_test = X_test.to(device), y_test.to(device)\n",
        "\n",
        "for epoch in range(epochs):\n",
        "\n",
        "  class_model.train()\n",
        "\n",
        "  logits = class_model(X_train).squeeze()\n",
        "  y_pred_proba = torch.sigmoid(logits)\n",
        "  y_pred = torch.round(y_pred_proba)\n",
        "\n",
        "  loss = loss_fn(logits, y_train)\n",
        "  acc = acc_fn(y_pred,y_train)\n",
        "\n",
        "  optimizer.zero_grad()\n",
        "  loss.backward()\n",
        "  optimizer.step()\n",
        "\n",
        "  class_model.eval()\n",
        "  with torch.inference_mode():\n",
        "    logits = class_model(X_test).squeeze()\n",
        "    y_pred_proba = torch.sigmoid(logits)\n",
        "    y_pred = torch.round(y_pred_proba)\n",
        "\n",
        "    loss_test = loss_fn(logits, y_test)\n",
        "    acc_test = acc_fn(y_pred,y_test)\n",
        "\n",
        "  if epoch % 100 == 0:\n",
        "    print(f'Epoch: {epoch}, Train Loss: {loss}, Train Acc: {acc}, Test Loss: {loss_test}, Test Acc: {acc_test}')"
      ],
      "metadata": {
        "colab": {
          "base_uri": "https://localhost:8080/"
        },
        "id": "YAegvXBWz8Am",
        "outputId": "f7fca546-7d7d-4926-d872-552c08ecf295"
      },
      "execution_count": 165,
      "outputs": [
        {
          "output_type": "stream",
          "name": "stdout",
          "text": [
            "Epoch: 0, Train Loss: 0.7047103047370911, Train Acc: 0.4937500059604645, Test Loss: 0.6940680742263794, Test Acc: 0.5249999761581421\n",
            "Epoch: 100, Train Loss: 0.6923341155052185, Train Acc: 0.574999988079071, Test Loss: 0.6911073923110962, Test Acc: 0.5849999785423279\n",
            "Epoch: 200, Train Loss: 0.6901578903198242, Train Acc: 0.6075000166893005, Test Loss: 0.6901924014091492, Test Acc: 0.6100000143051147\n",
            "Epoch: 300, Train Loss: 0.6875978708267212, Train Acc: 0.6337500214576721, Test Loss: 0.6883881092071533, Test Acc: 0.625\n",
            "Epoch: 400, Train Loss: 0.6839185953140259, Train Acc: 0.6312500238418579, Test Loss: 0.6855964660644531, Test Acc: 0.6150000095367432\n",
            "Epoch: 500, Train Loss: 0.6774665713310242, Train Acc: 0.6349999904632568, Test Loss: 0.6805399656295776, Test Acc: 0.6100000143051147\n",
            "Epoch: 600, Train Loss: 0.6671475172042847, Train Acc: 0.6587499976158142, Test Loss: 0.6709545254707336, Test Acc: 0.625\n",
            "Epoch: 700, Train Loss: 0.6496069431304932, Train Acc: 0.7225000262260437, Test Loss: 0.6535713076591492, Test Acc: 0.7250000238418579\n",
            "Epoch: 800, Train Loss: 0.6146706342697144, Train Acc: 0.887499988079071, Test Loss: 0.6188504695892334, Test Acc: 0.8949999809265137\n",
            "Epoch: 900, Train Loss: 0.546465277671814, Train Acc: 0.9487500190734863, Test Loss: 0.5503818392753601, Test Acc: 0.9350000023841858\n"
          ]
        }
      ]
    },
    {
      "cell_type": "markdown",
      "source": [
        "# Classification Model - Multi Class"
      ],
      "metadata": {
        "id": "Ynbssk8Z2pjb"
      }
    },
    {
      "cell_type": "code",
      "source": [
        "import torch\n",
        "from torch import nn"
      ],
      "metadata": {
        "id": "Br_b-w8g2sNw"
      },
      "execution_count": 166,
      "outputs": []
    },
    {
      "cell_type": "code",
      "source": [
        "device = 'cuda' if torch.cuda.is_available() else 'cpu'\n",
        "device"
      ],
      "metadata": {
        "colab": {
          "base_uri": "https://localhost:8080/",
          "height": 35
        },
        "id": "zvfaJfkn21Jg",
        "outputId": "ffd30dfc-0d51-4a91-99b4-8f9818d8e941"
      },
      "execution_count": 167,
      "outputs": [
        {
          "output_type": "execute_result",
          "data": {
            "text/plain": [
              "'cuda'"
            ],
            "application/vnd.google.colaboratory.intrinsic+json": {
              "type": "string"
            }
          },
          "metadata": {},
          "execution_count": 167
        }
      ]
    },
    {
      "cell_type": "code",
      "source": [
        "from sklearn.datasets import make_blobs\n",
        "from sklearn.model_selection import train_test_split\n",
        "\n",
        "# Set the hyperparameters for data creation\n",
        "NUM_CLASSES = 4\n",
        "NUM_FEATURES = 2\n",
        "RANDOM_SEED = 42\n",
        "\n",
        "# 1. Create multi-class data\n",
        "X, y = make_blobs(n_samples=1000,\n",
        "    n_features=NUM_FEATURES, # X features\n",
        "    centers=NUM_CLASSES, # y labels\n",
        "    cluster_std=1.5, # give the clusters a little shake up (try changing this to 1.0, the default)\n",
        "    random_state=RANDOM_SEED\n",
        ")\n",
        "\n",
        "X = torch.from_numpy(X).type(torch.float)\n",
        "y = torch.from_numpy(y)\n",
        "\n",
        "X[:10], y[:10]"
      ],
      "metadata": {
        "colab": {
          "base_uri": "https://localhost:8080/"
        },
        "id": "JeQroEbp25rG",
        "outputId": "9c0abdf0-6fa1-4523-ba5a-d8c5b515c729"
      },
      "execution_count": 168,
      "outputs": [
        {
          "output_type": "execute_result",
          "data": {
            "text/plain": [
              "(tensor([[-8.4134,  6.9352],\n",
              "         [-5.7665, -6.4312],\n",
              "         [-6.0421, -6.7661],\n",
              "         [ 3.9508,  0.6984],\n",
              "         [ 4.2505, -0.2815],\n",
              "         [-6.7941, -6.4772],\n",
              "         [ 5.2102,  2.8890],\n",
              "         [-5.5051, -6.3604],\n",
              "         [-6.5438, -4.8339],\n",
              "         [ 6.4496,  0.7478]]),\n",
              " tensor([3, 2, 2, 1, 1, 2, 1, 2, 2, 1]))"
            ]
          },
          "metadata": {},
          "execution_count": 168
        }
      ]
    },
    {
      "cell_type": "code",
      "source": [
        "n_classes = int(max(torch.unique(y)) + 1)\n",
        "n_classes"
      ],
      "metadata": {
        "colab": {
          "base_uri": "https://localhost:8080/"
        },
        "id": "N4Hvbd_J5C-e",
        "outputId": "e0c719e4-996c-4de3-f033-936bc023ada2"
      },
      "execution_count": 169,
      "outputs": [
        {
          "output_type": "execute_result",
          "data": {
            "text/plain": [
              "4"
            ]
          },
          "metadata": {},
          "execution_count": 169
        }
      ]
    },
    {
      "cell_type": "code",
      "source": [
        "from sklearn.model_selection import train_test_split\n",
        "\n",
        "X_train, X_test, y_train, y_test = train_test_split(X,y, train_size=0.8, random_state = 601)"
      ],
      "metadata": {
        "id": "wg5V7_xk29qx"
      },
      "execution_count": 170,
      "outputs": []
    },
    {
      "cell_type": "code",
      "source": [
        "class MultiClassifierModel(nn.Module):\n",
        "  def __init__(self,in_shape, hidden_units, out_shape):\n",
        "    super().__init__()\n",
        "\n",
        "    self.layers = nn.Sequential(\n",
        "        nn.Linear(in_features=in_shape, out_features=hidden_units),\n",
        "        nn.ReLU(),\n",
        "        nn.Linear(in_features=hidden_units, out_features=hidden_units),\n",
        "        nn.ReLU(),\n",
        "        nn.Linear(in_features=hidden_units, out_features=out_shape),\n",
        "    )\n",
        "\n",
        "  def forward(self,x):\n",
        "    return self.layers(x)\n",
        "\n",
        "mclass_model = MultiClassifierModel(in_shape=2,\n",
        "                                    hidden_units=10,\n",
        "                                    out_shape=n_classes).to(device)\n",
        "mclass_model"
      ],
      "metadata": {
        "colab": {
          "base_uri": "https://localhost:8080/"
        },
        "id": "lWXRPSVY4ohk",
        "outputId": "ec67205a-8a5e-4db4-c8e5-98675bc7c93f"
      },
      "execution_count": 171,
      "outputs": [
        {
          "output_type": "execute_result",
          "data": {
            "text/plain": [
              "MultiClassifierModel(\n",
              "  (layers): Sequential(\n",
              "    (0): Linear(in_features=2, out_features=10, bias=True)\n",
              "    (1): ReLU()\n",
              "    (2): Linear(in_features=10, out_features=10, bias=True)\n",
              "    (3): ReLU()\n",
              "    (4): Linear(in_features=10, out_features=4, bias=True)\n",
              "  )\n",
              ")"
            ]
          },
          "metadata": {},
          "execution_count": 171
        }
      ]
    },
    {
      "cell_type": "code",
      "source": [
        "loss_fn = nn.CrossEntropyLoss()\n",
        "optimizer = torch.optim.SGD(mclass_model.parameters(), lr=0.1)"
      ],
      "metadata": {
        "id": "V4__yuvF5ka7"
      },
      "execution_count": 172,
      "outputs": []
    },
    {
      "cell_type": "code",
      "source": [
        "try:\n",
        "  from torchmetrics.classification import MulticlassAccuracy\n",
        "except:\n",
        "  !pip install torchmetrics\n",
        "  from torchmetrics.classification import MulticlassAccuracy\n"
      ],
      "metadata": {
        "id": "cuvQVyzIrhMx"
      },
      "execution_count": null,
      "outputs": []
    },
    {
      "cell_type": "code",
      "source": [
        "acc_fn = MulticlassAccuracy(num_classes=n_classes).to(device)"
      ],
      "metadata": {
        "id": "e7RlVXUS6udj"
      },
      "execution_count": 173,
      "outputs": []
    },
    {
      "cell_type": "code",
      "source": [
        "torch.cuda.manual_seed(601)\n",
        "torch.manual_seed(601)\n",
        "\n",
        "epochs = 1000\n",
        "\n",
        "X_train, y_train = X_train.to(device), y_train.to(device)\n",
        "X_test, y_test = X_test.to(device), y_test.to(device)\n",
        "\n",
        "for epoch in range(epochs):\n",
        "\n",
        "  mclass_model.train()\n",
        "\n",
        "  logits = mclass_model(X_train)\n",
        "  y_pred_probas = torch.softmax(logits,dim=1)\n",
        "  y_pred = torch.argmax(y_pred_probas,dim=1)\n",
        "\n",
        "  loss = loss_fn(logits,y_train)\n",
        "  acc = acc_fn(y_pred,y_train)\n",
        "\n",
        "  optimizer.zero_grad()\n",
        "  loss.backward()\n",
        "  optimizer.step()\n",
        "\n",
        "  mclass_model.eval()\n",
        "  with torch.inference_mode():\n",
        "    logits = mclass_model(X_test)\n",
        "    y_pred_probas = torch.softmax(logits,dim=1)\n",
        "    y_pred = torch.argmax(y_pred_probas,dim=1)\n",
        "\n",
        "    loss_test = loss_fn(logits,y_test)\n",
        "    acc_test = acc_fn(y_pred,y_test)\n",
        "\n",
        "  if epoch % 100 == 0:\n",
        "    print(f'Epoch: {epoch}, Train Loss: {loss:.5}, Train Acc: {acc:.2f}%, Test Loss: {loss_test:.5}, Test Acc: {acc_test:.2f}%')"
      ],
      "metadata": {
        "colab": {
          "base_uri": "https://localhost:8080/"
        },
        "id": "lr_zIzhW5ziK",
        "outputId": "6f19be9e-4325-4e26-de97-b90a99aceed3"
      },
      "execution_count": 174,
      "outputs": [
        {
          "output_type": "stream",
          "name": "stdout",
          "text": [
            "Epoch: 0, Train Loss: 1.3452, Train Acc: 0.37%, Test Loss: 1.219, Test Acc: 0.49%\n",
            "Epoch: 100, Train Loss: 0.027071, Train Acc: 0.99%, Test Loss: 0.047189, Test Acc: 0.99%\n",
            "Epoch: 200, Train Loss: 0.019319, Train Acc: 0.99%, Test Loss: 0.046727, Test Acc: 0.99%\n",
            "Epoch: 300, Train Loss: 0.017058, Train Acc: 0.99%, Test Loss: 0.048715, Test Acc: 0.99%\n",
            "Epoch: 400, Train Loss: 0.015954, Train Acc: 0.99%, Test Loss: 0.050546, Test Acc: 0.99%\n",
            "Epoch: 500, Train Loss: 0.015273, Train Acc: 0.99%, Test Loss: 0.052025, Test Acc: 0.99%\n",
            "Epoch: 600, Train Loss: 0.01479, Train Acc: 0.99%, Test Loss: 0.05315, Test Acc: 0.99%\n",
            "Epoch: 700, Train Loss: 0.014404, Train Acc: 0.99%, Test Loss: 0.054015, Test Acc: 0.99%\n",
            "Epoch: 800, Train Loss: 0.014075, Train Acc: 0.99%, Test Loss: 0.05466, Test Acc: 0.99%\n",
            "Epoch: 900, Train Loss: 0.01379, Train Acc: 0.99%, Test Loss: 0.055132, Test Acc: 0.99%\n"
          ]
        }
      ]
    },
    {
      "cell_type": "markdown",
      "source": [
        "# Image Detection Model - no data Augmentation"
      ],
      "metadata": {
        "id": "j2M2AKvh8sKt"
      }
    },
    {
      "cell_type": "code",
      "source": [
        "import torch\n",
        "from torch import nn\n",
        "\n",
        "from torchvision import datasets\n",
        "from torchvision.transforms import ToTensor"
      ],
      "metadata": {
        "id": "M73Uh1vX7syJ"
      },
      "execution_count": 237,
      "outputs": []
    },
    {
      "cell_type": "code",
      "source": [
        "# Setup training data\n",
        "train_data = datasets.FashionMNIST(\n",
        "    root=\"data\", # where to download data to?\n",
        "    train=True, # get training data\n",
        "    download=True, # download data if it doesn't exist on disk\n",
        "    transform=ToTensor(), # images come as PIL format, we want to turn into Torch tensors\n",
        "    target_transform=None # you can transform labels as well\n",
        ")\n",
        "\n",
        "# Setup testing data\n",
        "test_data = datasets.FashionMNIST(\n",
        "    root=\"data\",\n",
        "    train=False, # get test data\n",
        "    download=True,\n",
        "    transform=ToTensor()\n",
        ")\n",
        "\n",
        "len(train_data.data), len(train_data.targets), len(test_data.data), len(test_data.targets)"
      ],
      "metadata": {
        "colab": {
          "base_uri": "https://localhost:8080/"
        },
        "id": "1ipfryfFbDiY",
        "outputId": "cf27fe22-c115-4cef-f7c8-130458f035d9"
      },
      "execution_count": 238,
      "outputs": [
        {
          "output_type": "execute_result",
          "data": {
            "text/plain": [
              "(60000, 60000, 10000, 10000)"
            ]
          },
          "metadata": {},
          "execution_count": 238
        }
      ]
    },
    {
      "cell_type": "code",
      "source": [
        "class_names = train_data.classes"
      ],
      "metadata": {
        "id": "MLGgztyAjoQn"
      },
      "execution_count": 239,
      "outputs": []
    },
    {
      "cell_type": "code",
      "source": [
        "train_data.classes, train_data.class_to_idx"
      ],
      "metadata": {
        "colab": {
          "base_uri": "https://localhost:8080/"
        },
        "id": "q4a-ZXpXbOGE",
        "outputId": "f4337271-68f5-4ba1-bf8c-853b2b66e80a"
      },
      "execution_count": 240,
      "outputs": [
        {
          "output_type": "execute_result",
          "data": {
            "text/plain": [
              "(['T-shirt/top',\n",
              "  'Trouser',\n",
              "  'Pullover',\n",
              "  'Dress',\n",
              "  'Coat',\n",
              "  'Sandal',\n",
              "  'Shirt',\n",
              "  'Sneaker',\n",
              "  'Bag',\n",
              "  'Ankle boot'],\n",
              " {'T-shirt/top': 0,\n",
              "  'Trouser': 1,\n",
              "  'Pullover': 2,\n",
              "  'Dress': 3,\n",
              "  'Coat': 4,\n",
              "  'Sandal': 5,\n",
              "  'Shirt': 6,\n",
              "  'Sneaker': 7,\n",
              "  'Bag': 8,\n",
              "  'Ankle boot': 9})"
            ]
          },
          "metadata": {},
          "execution_count": 240
        }
      ]
    },
    {
      "cell_type": "code",
      "source": [
        "import matplotlib.pyplot as plt\n",
        "\n",
        "image, label = train_data[0]\n",
        "print(f'Image shape: {image.shape}')\n",
        "plt.imshow(image.squeeze())\n",
        "plt.title(label)"
      ],
      "metadata": {
        "colab": {
          "base_uri": "https://localhost:8080/",
          "height": 487
        },
        "id": "XTqMbkByb4Q7",
        "outputId": "3e0f8247-5933-4760-8e62-399b0ef5817a"
      },
      "execution_count": 241,
      "outputs": [
        {
          "output_type": "stream",
          "name": "stdout",
          "text": [
            "Image shape: torch.Size([1, 28, 28])\n"
          ]
        },
        {
          "output_type": "execute_result",
          "data": {
            "text/plain": [
              "Text(0.5, 1.0, '9')"
            ]
          },
          "metadata": {},
          "execution_count": 241
        },
        {
          "output_type": "display_data",
          "data": {
            "text/plain": [
              "<Figure size 640x480 with 1 Axes>"
            ],
            "image/png": "[encoded data removed]"
          },
          "metadata": {}
        }
      ]
    },
    {
      "cell_type": "code",
      "source": [
        "from torch.utils.data import DataLoader\n",
        "import os\n",
        "\n",
        "BATCH_SIZE = 32\n",
        "NUM_WORKERS = os.cpu_count()\n",
        "\n",
        "print(f\"Creating DataLoader's with batch size {BATCH_SIZE} and {NUM_WORKERS} workers.\")\n",
        "\n",
        "train_dataloader = DataLoader(train_data,\n",
        "                              shuffle=True,\n",
        "                              batch_size=BATCH_SIZE,\n",
        "                              num_workers = NUM_WORKERS)\n",
        "\n",
        "test_dataloader = DataLoader(test_data,\n",
        "                             shuffle=False,\n",
        "                              batch_size=BATCH_SIZE,\n",
        "                             num_workers = NUM_WORKERS)"
      ],
      "metadata": {
        "colab": {
          "base_uri": "https://localhost:8080/"
        },
        "id": "MU0Hnz24cRbA",
        "outputId": "82c79516-06d5-48f9-c7b0-1b6f687d3ceb"
      },
      "execution_count": 242,
      "outputs": [
        {
          "output_type": "stream",
          "name": "stdout",
          "text": [
            "Creating DataLoader's with batch size 32 and 2 workers.\n"
          ]
        }
      ]
    },
    {
      "cell_type": "code",
      "source": [
        "image, _ = train_data[0]\n",
        "image = image.squeeze()\n",
        "image_shape = image.shape\n",
        "h,w = image_shape"
      ],
      "metadata": {
        "id": "dflIPUj-jw3f"
      },
      "execution_count": 243,
      "outputs": []
    },
    {
      "cell_type": "code",
      "source": [
        "class ImageModel(nn.Module):\n",
        "  def __init__(self,input_shape, hidden_units, output_shape, image_h, image_w):\n",
        "    super().__init__()\n",
        "\n",
        "    self.layers = nn.Sequential(\n",
        "        nn.Conv2d(in_channels=input_shape, out_channels=hidden_units, kernel_size=3, padding=1, stride= 1),\n",
        "        nn.ReLU(),\n",
        "        nn.MaxPool2d(kernel_size=2, stride= 2)\n",
        "    )\n",
        "\n",
        "    # After MaxPool2d(2): H' = image_h//2, W' = image_w//2\n",
        "    flat_features = hidden_units * (image_h // 2) * (image_w // 2)\n",
        "\n",
        "    self.classifier = nn.Sequential(\n",
        "        nn.Flatten(),\n",
        "        nn.Linear(in_features=flat_features, out_features=output_shape)\n",
        "    )\n",
        "\n",
        "  def forward(self, x):\n",
        "    return self.classifier(self.layers(x))\n",
        "\n",
        "image_model = ImageModel(input_shape= 1, hidden_units= 10, output_shape= len(class_names), image_h= h, image_w= w).to(device)\n",
        "image_model"
      ],
      "metadata": {
        "colab": {
          "base_uri": "https://localhost:8080/"
        },
        "id": "aMWz28Ungxqj",
        "outputId": "5cc04b32-0b27-4524-c962-4ea571014bc5"
      },
      "execution_count": 244,
      "outputs": [
        {
          "output_type": "execute_result",
          "data": {
            "text/plain": [
              "ImageModel(\n",
              "  (layers): Sequential(\n",
              "    (0): Conv2d(1, 10, kernel_size=(3, 3), stride=(1, 1), padding=(1, 1))\n",
              "    (1): ReLU()\n",
              "    (2): MaxPool2d(kernel_size=2, stride=2, padding=0, dilation=1, ceil_mode=False)\n",
              "  )\n",
              "  (classifier): Sequential(\n",
              "    (0): Flatten(start_dim=1, end_dim=-1)\n",
              "    (1): Linear(in_features=1960, out_features=10, bias=True)\n",
              "  )\n",
              ")"
            ]
          },
          "metadata": {},
          "execution_count": 244
        }
      ]
    },
    {
      "cell_type": "code",
      "source": [
        "try:\n",
        "  from torchinfo import summary\n",
        "except:\n",
        "  !pip install torchinfo\n",
        "  from torchinfo import summary"
      ],
      "metadata": {
        "id": "U9kTyGburKL5"
      },
      "execution_count": 245,
      "outputs": []
    },
    {
      "cell_type": "code",
      "source": [
        "from torchinfo import summary\n",
        "\n",
        "summary(image_model, input_size=[1,1,28,28])"
      ],
      "metadata": {
        "colab": {
          "base_uri": "https://localhost:8080/"
        },
        "id": "Y1dd-Vq1rCA-",
        "outputId": "58f58dde-3d6a-46ca-c3c6-b729ea107cdc"
      },
      "execution_count": 246,
      "outputs": [
        {
          "output_type": "execute_result",
          "data": {
            "text/plain": [
              "==========================================================================================\n",
              "Layer (type:depth-idx)                   Output Shape              Param #\n",
              "==========================================================================================\n",
              "ImageModel                               [1, 10]                   --\n",
              "├─Sequential: 1-1                        [1, 10, 14, 14]           --\n",
              "│    └─Conv2d: 2-1                       [1, 10, 28, 28]           100\n",
              "│    └─ReLU: 2-2                         [1, 10, 28, 28]           --\n",
              "│    └─MaxPool2d: 2-3                    [1, 10, 14, 14]           --\n",
              "├─Sequential: 1-2                        [1, 10]                   --\n",
              "│    └─Flatten: 2-4                      [1, 1960]                 --\n",
              "│    └─Linear: 2-5                       [1, 10]                   19,610\n",
              "==========================================================================================\n",
              "Total params: 19,710\n",
              "Trainable params: 19,710\n",
              "Non-trainable params: 0\n",
              "Total mult-adds (Units.MEGABYTES): 0.10\n",
              "==========================================================================================\n",
              "Input size (MB): 0.00\n",
              "Forward/backward pass size (MB): 0.06\n",
              "Params size (MB): 0.08\n",
              "Estimated Total Size (MB): 0.14\n",
              "=========================================================================================="
            ]
          },
          "metadata": {},
          "execution_count": 246
        }
      ]
    },
    {
      "cell_type": "code",
      "source": [
        "loss_fn = nn.CrossEntropyLoss()\n",
        "optimizer = torch.optim.SGD(image_model.parameters(), lr=0.1)"
      ],
      "metadata": {
        "id": "KTyWhVlSgqHp"
      },
      "execution_count": 247,
      "outputs": []
    },
    {
      "cell_type": "code",
      "source": [
        "from torchmetrics.classification import MulticlassAccuracy\n",
        "\n",
        "acc_fn = MulticlassAccuracy(num_classes=len(class_names)).to(device)"
      ],
      "metadata": {
        "id": "Pt414o1IonUC"
      },
      "execution_count": 248,
      "outputs": []
    },
    {
      "cell_type": "code",
      "source": [
        "torch.cuda.manual_seed(601)\n",
        "torch.manual_seed(601)\n",
        "\n",
        "epochs = 5\n",
        "\n",
        "\n",
        "for epoch in range(epochs):\n",
        "  train_loss, train_acc = 0, 0\n",
        "  image_model.train()\n",
        "  for batch, (X,y) in enumerate(train_dataloader):\n",
        "    X,y = X.to(device), y.to(device)\n",
        "\n",
        "    y_pred_probas = image_model(X)\n",
        "    y_preds = torch.argmax(y_pred_probas,dim=1)\n",
        "\n",
        "    loss = loss_fn(y_pred_probas, y)\n",
        "    acc = acc_fn(y_preds, y)\n",
        "    train_loss += loss\n",
        "    train_acc += acc\n",
        "\n",
        "    optimizer.zero_grad()\n",
        "    loss.backward()\n",
        "    optimizer.step()\n",
        "\n",
        "  train_loss /= len(train_dataloader)\n",
        "  train_acc /= len(train_dataloader)\n",
        "\n",
        "  test_loss, test_acc = 0, 0\n",
        "  image_model.eval()\n",
        "  with torch.inference_mode():\n",
        "    for X,y in test_dataloader:\n",
        "      X,y = X.to(device), y.to(device)\n",
        "\n",
        "      y_pred_probas = image_model(X)\n",
        "      y_preds = torch.argmax(y_pred_probas,dim=1)\n",
        "\n",
        "      loss = loss_fn(y_pred_probas, y)\n",
        "      acc = acc_fn(y_preds, y)\n",
        "      test_loss += loss\n",
        "      test_acc += acc\n",
        "\n",
        "    test_loss /= len(test_dataloader)\n",
        "    test_acc /= len(test_dataloader)\n",
        "\n",
        "  print(f'Epoch: {epoch}, Train Loss: {train_loss:.3}, Train Acc: {train_acc*100:.2f}%, Test Loss: {test_loss:.3}, Test Acc: {test_acc*100:.2f}%')"
      ],
      "metadata": {
        "colab": {
          "base_uri": "https://localhost:8080/"
        },
        "id": "qA2zLs2Akbnu",
        "outputId": "5090d0d1-cc57-4b02-c41d-a051fd5ed689"
      },
      "execution_count": 249,
      "outputs": [
        {
          "output_type": "stream",
          "name": "stdout",
          "text": [
            "Epoch: 0, Train Loss: 0.509, Train Acc: 81.14%, Test Loss: 0.439, Test Acc: 84.13%\n",
            "Epoch: 1, Train Loss: 0.367, Train Acc: 86.10%, Test Loss: 0.376, Test Acc: 85.34%\n",
            "Epoch: 2, Train Loss: 0.331, Train Acc: 87.27%, Test Loss: 0.349, Test Acc: 86.65%\n",
            "Epoch: 3, Train Loss: 0.308, Train Acc: 88.22%, Test Loss: 0.327, Test Acc: 87.37%\n",
            "Epoch: 4, Train Loss: 0.293, Train Acc: 88.77%, Test Loss: 0.316, Test Acc: 87.73%\n"
          ]
        }
      ]
    },
    {
      "cell_type": "code",
      "source": [
        "test_data"
      ],
      "metadata": {
        "colab": {
          "base_uri": "https://localhost:8080/"
        },
        "id": "REnXfLbivMRu",
        "outputId": "0fbfa605-14ad-44d3-d222-ee1937832520"
      },
      "execution_count": 256,
      "outputs": [
        {
          "output_type": "execute_result",
          "data": {
            "text/plain": [
              "Dataset FashionMNIST\n",
              "    Number of datapoints: 10000\n",
              "    Root location: data\n",
              "    Split: Test\n",
              "    StandardTransform\n",
              "Transform: ToTensor()"
            ]
          },
          "metadata": {},
          "execution_count": 256
        }
      ]
    },
    {
      "cell_type": "code",
      "source": [
        "image_model.eval()\n",
        "all_probs = []\n",
        "with torch.inference_mode():\n",
        "  for x, _ in test_dataloader:\n",
        "    x = x.to(device)\n",
        "    logits = image_model(x)\n",
        "    pred_probas = torch.softmax(logits, dim=1)\n",
        "    all_probs.append(pred_probas.cpu())\n",
        "\n",
        "y_pred_proba = torch.cat(all_probs, dim=0)\n",
        "y_pred_proba.shape"
      ],
      "metadata": {
        "id": "sj7ZXTnfqwns"
      },
      "execution_count": 259,
      "outputs": []
    },
    {
      "cell_type": "code",
      "source": [],
      "metadata": {
        "colab": {
          "base_uri": "https://localhost:8080/"
        },
        "id": "mL1SKrVDwCrt",
        "outputId": "2911e356-cc56-4a04-8b82-317e1d609572"
      },
      "execution_count": 264,
      "outputs": [
        {
          "output_type": "execute_result",
          "data": {
            "text/plain": [
              "torch.Size([10000, 10])"
            ]
          },
          "metadata": {},
          "execution_count": 264
        }
      ]
    }
  ]
}